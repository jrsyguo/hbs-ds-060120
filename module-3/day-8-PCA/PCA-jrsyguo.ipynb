{
 "cells": [
  {
   "cell_type": "markdown",
   "metadata": {
    "colab_type": "text",
    "id": "ubqG8p0ezqE7",
    "slideshow": {
     "slide_type": "slide"
    }
   },
   "source": [
    "# Principal Component Analysis\n",
    "\n",
    "### Let's get to the most important parts of this data"
   ]
  },
  {
   "cell_type": "markdown",
   "metadata": {
    "slideshow": {
     "slide_type": "slide"
    }
   },
   "source": [
    "## Starting Off\n",
    "\n",
    "Currently when you have a lot of potential features to use in a model, how are you deciding which features to use in your final model, both the number and the specific features?\n",
    "\n",
    "What are some advantages and disadvantages of this approach?\n",
    "\n",
    "And how on earth do you handle mutlicolinearity in a dataset?"
   ]
  },
  {
   "cell_type": "markdown",
   "metadata": {},
   "source": [
    "### Outcomes for today:\n",
    "- Review components of PCA and its role in modeling\n",
    "- Go through three demos - random data, small dataset, data image processing\n",
    "- Pick the relevant components to keep\n",
    "- Go through the lin-algebra method together if you all want\n"
   ]
  },
  {
   "cell_type": "markdown",
   "metadata": {
    "slideshow": {
     "slide_type": "slide"
    }
   },
   "source": [
    "[Let's demo a concept with this first](https://www.desmos.com/calculator/tpahiv1skb)"
   ]
  },
  {
   "cell_type": "markdown",
   "metadata": {
    "colab_type": "text",
    "id": "mZuDcXqrzqE8"
   },
   "source": [
    "Up until now, we have been looking in depth at supervised learning estimators: those estimators that predict labels based on labeled training data.\n",
    "\n",
    "In this section, we explore what is perhaps one of the most broadly used of unsupervised algorithms, principal component analysis (PCA).\n",
    "PCA is fundamentally a dimensionality reduction algorithm, but it can also be useful as a tool for visualization, for noise filtering, for feature extraction and engineering, and much more.\n",
    "After a brief conceptual discussion of the PCA algorithm, we will see a couple examples of these further applications.\n",
    "\n"
   ]
  },
  {
   "cell_type": "markdown",
   "metadata": {
    "slideshow": {
     "slide_type": "slide"
    }
   },
   "source": [
    "## The Curse of Dimensionality\n",
    "\n",
    "As the dimensionality of the feature space increases, the number of configurations can grow exponentially, and the number of configurations covered by an observation decreases. \n",
    "\n",
    "As we add more dimensions we also increase the processing power we need to analyze the data, and we also increase the amount of training data required to make meaningful models."
   ]
  },
  {
   "cell_type": "markdown",
   "metadata": {},
   "source": [
    "### 1-d Space\n",
    "\n",
    "![1d](https://cdn-images-1.medium.com/max/1600/1*V4g_LzDA0QhWrVbRJqSNLQ.png)"
   ]
  },
  {
   "cell_type": "markdown",
   "metadata": {
    "slideshow": {
     "slide_type": "slide"
    }
   },
   "source": [
    "### 2d Space\n",
    "![2d](https://cdn-images-1.medium.com/max/1600/1*m5i7BqDLiZ8t1tyQx8xWHQ.png)"
   ]
  },
  {
   "cell_type": "markdown",
   "metadata": {
    "slideshow": {
     "slide_type": "slide"
    }
   },
   "source": [
    "### 3d Space\n",
    "\n",
    "![3d](https://cdn-images-1.medium.com/max/1600/1*sKj4h8S1DRV7Phf22ycAbg.png)"
   ]
  },
  {
   "cell_type": "markdown",
   "metadata": {
    "slideshow": {
     "slide_type": "slide"
    }
   },
   "source": [
    "As the number of dimensions increases what happens to the nubmer of observations needed to cover that space?"
   ]
  },
  {
   "cell_type": "markdown",
   "metadata": {
    "slideshow": {
     "slide_type": "slide"
    }
   },
   "source": [
    "### Hughes Phenomenon\n",
    "\n",
    "Hughes Phenomenon shows that as the number of features increases, the classifier’s performance increases as well until we reach the optimal number of features. Adding more features based on the same size as the training set will then degrade the classifier’s performance.\n",
    "\n",
    "![hughes](https://cdn-images-1.medium.com/max/1600/1*Ts2X2ow29QLDEeLvSE14Ew.png)"
   ]
  },
  {
   "cell_type": "markdown",
   "metadata": {},
   "source": [
    "Glass dataset link for later :)  https://raw.githubusercontent.com/p-sama/Glass-Classification/master/glass.csv"
   ]
  },
  {
   "cell_type": "markdown",
   "metadata": {
    "colab_type": "text",
    "id": "tGKDdb3pzqFA"
   },
   "source": [
    "## Introducing Principal Component Analysis\n",
    "\n",
    "Principal component analysis is a fast and flexible unsupervised method for dimensionality reduction in data.\n",
    "Its behavior is easiest to visualize by looking at a two-dimensional dataset.\n",
    "Consider the following 200 points:"
   ]
  },
  {
   "cell_type": "code",
   "execution_count": 1,
   "metadata": {
    "colab": {},
    "colab_type": "code",
    "id": "esewHp_0zqE8"
   },
   "outputs": [],
   "source": [
    "import numpy as np\n",
    "import matplotlib.pyplot as plt\n",
    "%matplotlib inline\n",
    "import seaborn as sns\n",
    "sns.set()"
   ]
  },
  {
   "cell_type": "code",
   "execution_count": 2,
   "metadata": {
    "colab": {},
    "colab_type": "code",
    "id": "QTDjyCd7zqFA",
    "outputId": "0283bea0-446d-4bc0-f741-bb17aaf15a76"
   },
   "outputs": [
    {
     "data": {
      "image/png": "[encoded data removed]",
      "text/plain": [
       "<Figure size 432x288 with 1 Axes>"
      ]
     },
     "metadata": {},
     "output_type": "display_data"
    }
   ],
   "source": [
    "rng = np.random.RandomState(1)\n",
    "X = np.dot(rng.rand(2, 2), rng.randn(2, 200)).T\n",
    "plt.scatter(X[:, 0], X[:, 1])\n",
    "plt.axis('equal');"
   ]
  },
  {
   "cell_type": "markdown",
   "metadata": {
    "colab_type": "text",
    "id": "Xayl0jMfzqFE"
   },
   "source": [
    "By eye, it is clear that there is a nearly linear relationship between the x and y variables.\n",
    "The problem setting here is slightly different: rather than attempting to *predict* the y values from the x values, the unsupervised learning problem attempts to learn about the *relationship* between the x and y values.\n",
    "\n",
    "In principal component analysis, this relationship is quantified by finding a list of the *principal axes* in the data, and using those axes to describe the dataset.\n",
    "Using Scikit-Learn's ``PCA`` estimator, we can compute this as follows:"
   ]
  },
  {
   "cell_type": "code",
   "execution_count": 3,
   "metadata": {},
   "outputs": [
    {
     "data": {
      "text/plain": [
       "array([[-6.25301618e-01, -1.70063657e-01],\n",
       "       [ 9.60695033e-01,  5.90900597e-01],\n",
       "       [-5.98543385e-01, -4.02593393e-01],\n",
       "       [-2.22805938e+00, -5.32576740e-01],\n",
       "       [-4.61430060e-01, -4.98867244e-01],\n",
       "       [-9.58929028e-01, -2.69331024e-01],\n",
       "       [-6.73079909e-01, -3.38308547e-01],\n",
       "       [ 1.30501861e+00,  5.91357846e-01],\n",
       "       [ 3.74545597e-01, -9.85442049e-02],\n",
       "       [-1.82628627e+00, -4.06170254e-01],\n",
       "       [ 6.68262284e-01,  3.36877396e-01],\n",
       "       [-5.82646676e-01, -1.77369217e-01],\n",
       "       [-4.18128976e-01, -3.73811389e-01],\n",
       "       [ 1.72209371e-01,  2.64668836e-01],\n",
       "       [ 3.77116687e-01,  1.88442969e-01],\n",
       "       [-6.79396230e-01, -1.31601978e-01],\n",
       "       [ 1.03148960e+00,  4.25550018e-01],\n",
       "       [ 3.36041799e-01,  3.90982721e-02],\n",
       "       [ 7.05745985e-01,  4.88730649e-01],\n",
       "       [ 8.39511547e-01,  1.52125872e-01],\n",
       "       [ 1.49882898e+00,  4.71380809e-01],\n",
       "       [ 2.88356638e-01,  3.31334714e-02],\n",
       "       [-5.02935011e-01, -3.68665426e-01],\n",
       "       [ 1.47921067e+00,  7.40445724e-01],\n",
       "       [-4.44382429e-01, -1.65019364e-01],\n",
       "       [-5.33464228e-01, -6.02221911e-02],\n",
       "       [-6.16229422e-01, -2.11783922e-01],\n",
       "       [ 7.46598965e-02, -6.14321077e-02],\n",
       "       [-1.13637011e-01,  7.32877678e-02],\n",
       "       [-2.00717298e-02,  6.09744586e-02],\n",
       "       [ 1.89582967e-01,  1.99769369e-01],\n",
       "       [ 9.38466103e-01,  5.41731132e-01],\n",
       "       [-3.66697989e-01, -3.64971376e-02],\n",
       "       [-8.93528486e-01, -3.72814013e-01],\n",
       "       [-1.31759571e+00, -3.57581073e-01],\n",
       "       [-3.81802782e-01, -2.01252465e-01],\n",
       "       [-5.13790216e-01, -5.05974086e-01],\n",
       "       [ 9.03737934e-01,  2.49518260e-01],\n",
       "       [-4.38875079e-01, -1.50648130e-01],\n",
       "       [-5.94170907e-01, -9.41224109e-02],\n",
       "       [-3.12943931e-01, -6.57312966e-04],\n",
       "       [-3.00229089e-01, -4.22050272e-01],\n",
       "       [-5.99239320e-01, -2.60398180e-01],\n",
       "       [ 2.20370036e-01,  2.03914415e-01],\n",
       "       [ 5.25164844e-01,  1.87026363e-01],\n",
       "       [ 5.56625011e-01, -1.33745094e-01],\n",
       "       [ 1.35428157e+00,  5.47397422e-01],\n",
       "       [-6.83159806e-01, -3.94693187e-01],\n",
       "       [-1.23325109e-01, -1.04266539e-01],\n",
       "       [-3.13175458e-01, -6.98306619e-02],\n",
       "       [-2.48838277e+00, -8.44571249e-01],\n",
       "       [ 1.24996586e+00,  5.85738115e-01],\n",
       "       [ 1.76764431e-01,  1.10730208e-01],\n",
       "       [-5.07808538e-01, -3.15746300e-01],\n",
       "       [ 1.82738502e+00,  6.20232502e-01],\n",
       "       [ 8.10156740e-01,  1.77171194e-01],\n",
       "       [ 4.28494398e-01,  1.29892407e-01],\n",
       "       [-6.81124709e-02, -1.83414149e-01],\n",
       "       [-2.38085712e-01,  3.20283053e-02],\n",
       "       [-5.76511311e-01, -4.61119558e-01],\n",
       "       [ 7.86579791e-01,  2.40420951e-01],\n",
       "       [-3.94028364e-01, -1.13238995e-01],\n",
       "       [ 3.00281016e-01,  4.05830103e-02],\n",
       "       [ 8.34354492e-01,  3.63411695e-01],\n",
       "       [ 6.77025394e-01,  8.62180588e-02],\n",
       "       [ 8.22858785e-01,  7.95262868e-02],\n",
       "       [ 1.11060226e+00,  8.38447209e-02],\n",
       "       [-1.11056320e+00, -2.21851614e-01],\n",
       "       [-3.25581172e-05,  2.52586287e-01],\n",
       "       [ 9.01346004e-01,  4.66550032e-01],\n",
       "       [ 6.13325282e-01,  2.29429972e-01],\n",
       "       [ 1.00280321e+00,  2.67636970e-01],\n",
       "       [-5.00300647e-01, -2.65194678e-01],\n",
       "       [-1.46839080e+00, -2.62591632e-01],\n",
       "       [-1.16559210e+00, -4.35658777e-01],\n",
       "       [ 1.23290571e+00,  3.72644940e-01],\n",
       "       [-8.71374166e-02, -7.68205362e-02],\n",
       "       [ 1.32611731e+00,  4.23305575e-01],\n",
       "       [-6.55945864e-01, -2.36422799e-01],\n",
       "       [-3.98868969e-01, -1.32296178e-01],\n",
       "       [ 1.46537233e-01,  2.88714500e-02],\n",
       "       [ 8.34743614e-01,  2.78631269e-01],\n",
       "       [ 1.26455201e-01,  1.83894435e-02],\n",
       "       [ 2.01707556e-01,  6.38435019e-02],\n",
       "       [-2.67775720e-01,  4.92011507e-03],\n",
       "       [ 2.85085062e-01,  5.36128031e-02],\n",
       "       [-7.53418549e-01, -3.37531319e-01],\n",
       "       [ 5.29313417e-01,  2.45960831e-02],\n",
       "       [ 3.65577719e-01, -5.62717811e-02],\n",
       "       [ 3.62822350e-02, -1.71587143e-02],\n",
       "       [ 1.98139998e-01,  1.48806454e-01],\n",
       "       [-7.56673772e-01, -2.05864228e-01],\n",
       "       [ 1.15733262e-01, -2.55010922e-02],\n",
       "       [-1.81944537e-01, -8.98933373e-02],\n",
       "       [ 1.57198306e-01,  1.26124661e-01],\n",
       "       [ 5.83470370e-01,  2.37266716e-01],\n",
       "       [-9.46770213e-01, -2.88927090e-01],\n",
       "       [ 7.13140353e-01,  1.77219645e-01],\n",
       "       [ 1.30157187e+00,  6.24502445e-01],\n",
       "       [-5.49063710e-01, -4.44638605e-01],\n",
       "       [-4.29728257e-01, -2.50941856e-01],\n",
       "       [-3.86766308e-01, -2.66159401e-01],\n",
       "       [-6.57643258e-01, -8.45055625e-02],\n",
       "       [ 1.23961415e+00,  4.90659512e-01],\n",
       "       [ 3.18446596e-01,  4.12165000e-03],\n",
       "       [-8.98118949e-01, -2.10137581e-01],\n",
       "       [ 3.36881319e-01,  1.87961004e-01],\n",
       "       [-4.18452911e-01, -1.81336717e-01],\n",
       "       [ 2.36601159e-01,  3.39487039e-01],\n",
       "       [ 3.51319728e-01,  9.23282159e-02],\n",
       "       [ 1.35323942e+00,  4.19970027e-01],\n",
       "       [-8.34819518e-01, -2.00044213e-01],\n",
       "       [ 2.32938600e+00,  9.16366922e-01],\n",
       "       [ 4.67174434e-02,  2.49148699e-01],\n",
       "       [ 4.55373238e-01,  1.97896476e-01],\n",
       "       [-7.10684919e-01, -1.56607387e-02],\n",
       "       [-5.50095165e-02, -2.19243382e-01],\n",
       "       [-4.54554511e-01, -2.62307969e-01],\n",
       "       [-1.08213611e-01, -4.11131904e-02],\n",
       "       [-8.97552407e-01, -2.41129284e-01],\n",
       "       [ 7.34802491e-01,  8.56077609e-02],\n",
       "       [ 2.25266501e-01, -2.49531175e-01],\n",
       "       [-3.27438240e-01,  1.87561024e-01],\n",
       "       [ 1.20422548e+00,  2.89208121e-01],\n",
       "       [ 1.70331974e-01, -2.13212414e-01],\n",
       "       [ 1.00007930e+00,  3.60626507e-01],\n",
       "       [-6.71516563e-01, -7.20747636e-02],\n",
       "       [ 1.19221616e+00,  3.49379904e-01],\n",
       "       [ 2.40174205e-01,  1.32451266e-01],\n",
       "       [ 5.56592389e-01,  3.39247336e-01],\n",
       "       [-1.23113909e+00, -3.01572247e-01],\n",
       "       [ 1.52659926e-01, -3.22243331e-02],\n",
       "       [ 1.37611796e+00,  4.38905019e-01],\n",
       "       [-7.05213114e-01, -1.86923986e-01],\n",
       "       [-1.25035415e+00, -6.15852747e-01],\n",
       "       [-1.87651011e+00, -5.87438869e-01],\n",
       "       [-1.47105690e+00, -7.57686938e-01],\n",
       "       [-1.50346447e+00, -6.39175291e-01],\n",
       "       [-3.74317472e-01, -1.24473266e-01],\n",
       "       [ 8.78524826e-01,  3.86529047e-01],\n",
       "       [ 4.37960653e-02, -1.33600937e-01],\n",
       "       [ 5.45982844e-01,  9.78986853e-02],\n",
       "       [ 1.41569127e-01, -3.31934527e-02],\n",
       "       [ 6.35824494e-02,  2.60037422e-03],\n",
       "       [-8.87046213e-02, -5.08430872e-02],\n",
       "       [ 1.32411808e-01, -5.25896645e-02],\n",
       "       [ 4.29143144e-01,  1.39451520e-01],\n",
       "       [-5.62450166e-01, -3.55459800e-01],\n",
       "       [ 5.98293829e-01,  3.05358879e-01],\n",
       "       [-3.52669474e-01,  2.77872905e-01],\n",
       "       [ 2.92708138e-01, -5.88533723e-02],\n",
       "       [ 1.49216325e+00,  2.43746801e-01],\n",
       "       [-3.21136884e-01, -2.11988784e-01],\n",
       "       [-4.28741839e-01, -1.62431474e-01],\n",
       "       [ 5.56602182e-02,  4.72280460e-02],\n",
       "       [-1.86669080e-01, -5.75236287e-02],\n",
       "       [-3.15976890e-01, -1.35666133e-01],\n",
       "       [-9.52287292e-01, -2.03431276e-01],\n",
       "       [-6.17216871e-01, -1.68607956e-01],\n",
       "       [ 2.60724124e-01,  2.83827268e-01],\n",
       "       [-1.29606872e+00, -5.87501508e-01],\n",
       "       [ 1.30204436e-01,  1.06536600e-01],\n",
       "       [ 3.62026915e-02, -7.14259522e-02],\n",
       "       [ 4.51406829e-01,  2.20021746e-01],\n",
       "       [ 7.82343617e-01,  1.55836343e-01],\n",
       "       [-1.91527940e+00, -8.41226381e-01],\n",
       "       [ 1.33470527e+00,  1.77008275e-01],\n",
       "       [-5.57241554e-01,  9.78217703e-02],\n",
       "       [-2.54030157e-01,  6.53585666e-03],\n",
       "       [ 3.83426415e-02, -1.41592253e-01],\n",
       "       [ 1.66900682e+00,  2.58263884e-01],\n",
       "       [-4.01201302e-01, -1.24900651e-01],\n",
       "       [ 1.33980298e+00,  5.54699895e-01],\n",
       "       [ 3.12160775e-01,  1.70605436e-01],\n",
       "       [ 2.09517683e+00,  6.46487345e-01],\n",
       "       [-6.85653080e-01, -2.37525375e-01],\n",
       "       [-9.81232159e-01, -5.30795733e-01],\n",
       "       [ 3.81516151e-01,  2.16067601e-01],\n",
       "       [ 8.35386181e-02,  2.57654664e-01],\n",
       "       [ 1.56227043e-01,  1.07263711e-02],\n",
       "       [-8.98591326e-01, -4.65169769e-01],\n",
       "       [ 2.16673778e-01, -1.35265391e-01],\n",
       "       [ 3.99091276e-01,  1.86824524e-01],\n",
       "       [-3.90120284e-01, -5.57531130e-02],\n",
       "       [ 1.51136791e-01, -3.50017338e-02],\n",
       "       [-2.59947279e-02, -5.30194271e-02],\n",
       "       [-5.55678088e-01, -2.82320719e-01],\n",
       "       [-4.14437203e-01, -1.61157769e-01],\n",
       "       [-5.43696094e-01, -4.31161457e-01],\n",
       "       [ 1.42759145e+00,  5.34554140e-01],\n",
       "       [ 4.51861867e-01, -1.43502859e-01],\n",
       "       [ 8.07369404e-01,  1.44524192e-01],\n",
       "       [-4.61251208e-01, -3.08874028e-01],\n",
       "       [-1.06359448e-01,  2.40025629e-01],\n",
       "       [-1.09810334e+00, -5.66248687e-01],\n",
       "       [ 8.38408546e-01,  2.78380007e-01],\n",
       "       [ 3.12708310e-01, -1.06001233e-02],\n",
       "       [ 1.95587585e+00,  6.38224114e-01],\n",
       "       [-1.10830352e+00, -3.95053658e-01],\n",
       "       [ 3.98647206e-01,  2.31865526e-02]])"
      ]
     },
     "execution_count": 3,
     "metadata": {},
     "output_type": "execute_result"
    }
   ],
   "source": [
    "X"
   ]
  },
  {
   "cell_type": "code",
   "execution_count": 4,
   "metadata": {
    "colab": {},
    "colab_type": "code",
    "id": "pIu2Dv7hzqFF",
    "outputId": "61b9c7a6-013d-483c-d549-08781401f1ee"
   },
   "outputs": [
    {
     "data": {
      "text/plain": [
       "PCA(n_components=2)"
      ]
     },
     "execution_count": 4,
     "metadata": {},
     "output_type": "execute_result"
    }
   ],
   "source": [
    "from sklearn.decomposition import PCA\n",
    "pca = PCA(n_components=2)\n",
    "pca.fit(X)"
   ]
  },
  {
   "cell_type": "markdown",
   "metadata": {
    "colab_type": "text",
    "id": "uPVijTCFzqFH"
   },
   "source": [
    "The fit learns some quantities from the data, most importantly the \"components\" and \"explained variance\":"
   ]
  },
  {
   "cell_type": "code",
   "execution_count": 5,
   "metadata": {
    "colab": {},
    "colab_type": "code",
    "id": "xt_dzib9zqFI",
    "outputId": "44c69b2d-9202-4a71-8838-2450198d4176"
   },
   "outputs": [
    {
     "name": "stdout",
     "output_type": "stream",
     "text": [
      "[[-0.94446029 -0.32862557]\n",
      " [-0.32862557  0.94446029]]\n"
     ]
    }
   ],
   "source": [
    "print(pca.components_) # Each component is a vector, the first value of which is applied to x[0] and the second to x[1]"
   ]
  },
  {
   "cell_type": "code",
   "execution_count": 6,
   "metadata": {
    "colab": {},
    "colab_type": "code",
    "id": "_LbTH8rozqFM",
    "outputId": "f6d1b945-31a4-4de3-daf7-4013ca80ead8"
   },
   "outputs": [
    {
     "name": "stdout",
     "output_type": "stream",
     "text": [
      "[0.7625315 0.0184779]\n"
     ]
    }
   ],
   "source": [
    "print(pca.explained_variance_)"
   ]
  },
  {
   "cell_type": "code",
   "execution_count": 7,
   "metadata": {},
   "outputs": [
    {
     "data": {
      "text/plain": [
       "array([[ 6.76769235e-01,  5.97386015e-02],\n",
       "       [-1.07121393e+00,  2.57240064e-01],\n",
       "       [ 7.27912364e-01, -1.68669939e-01],\n",
       "       [ 2.30964136e+00,  2.44066575e-01],\n",
       "       [ 6.30052323e-01, -3.04655713e-01],\n",
       "       [ 1.02448887e+00,  7.56230140e-02],\n",
       "       [ 7.77183507e-01, -8.34608477e-02],\n",
       "       [-1.39656414e+00,  1.44518385e-01],\n",
       "       [-2.91049874e-01, -2.01289478e-01],\n",
       "       [ 1.88864221e+00,  2.31419563e-01],\n",
       "       [-7.11544293e-01,  1.13426118e-01],\n",
       "       [ 6.38884130e-01,  3.88212853e-02],\n",
       "       [ 5.48059617e-01, -2.00775267e-01],\n",
       "       [-2.19312436e-01,  2.08243673e-01],\n",
       "       [-3.87789490e-01,  6.89135848e-02],\n",
       "       [ 7.15219956e-01,  1.13841003e-01],\n",
       "       [-1.08373816e+00,  7.78081042e-02],\n",
       "       [-2.99917403e-01, -5.86382919e-02],\n",
       "       [-7.96849021e-01,  2.44527383e-01],\n",
       "       [-8.12568346e-01, -1.17341246e-01],\n",
       "       [-1.54018281e+00, -3.24862050e-02],\n",
       "       [-2.52920476e-01, -4.86012463e-02],\n",
       "       [ 6.26464454e-01, -1.68045678e-01],\n",
       "       [-1.61007571e+00,  2.28082001e-01],\n",
       "       [ 5.04240563e-01,  5.04806457e-03],\n",
       "       [ 5.53935753e-01,  1.33299389e-01],\n",
       "       [ 6.81911252e-01,  1.73541132e-02],\n",
       "       [-2.00157228e-02, -6.76884664e-02],\n",
       "       [ 1.13550833e-01,  1.21428285e-01],\n",
       "       [ 2.92286085e-02,  7.90509091e-02],\n",
       "       [-2.14393483e-01,  1.41239296e-01],\n",
       "       [-1.03406124e+00,  2.18106452e-01],\n",
       "       [ 3.88635004e-01,  1.00903110e-01],\n",
       "       [ 9.96727811e-01, -4.36048501e-02],\n",
       "       [ 1.39223653e+00,  1.10141389e-01],\n",
       "       [ 4.57043694e-01, -4.97379329e-02],\n",
       "       [ 6.81839901e-01, -2.94160957e-01],\n",
       "       [-9.05233246e-01, -4.64644357e-02],\n",
       "       [ 4.94316334e-01,  1.68112686e-02],\n",
       "       [ 6.22411280e-01,  1.21231745e-01],\n",
       "       [ 3.26088548e-01,  1.17087443e-01],\n",
       "       [ 4.52560386e-01, -2.85079894e-01],\n",
       "       [ 6.81840663e-01, -3.41435056e-02],\n",
       "       [-2.44832816e-01,  1.35036709e-01],\n",
       "       [-5.27149562e-01,  1.89232462e-02],\n",
       "       [-4.51448737e-01, -2.94371271e-01],\n",
       "       [-1.42864453e+00,  8.68104419e-02],\n",
       "       [ 8.05233004e-01, -1.33401389e-01],\n",
       "       [ 1.81049742e-01, -4.30809501e-02],\n",
       "       [ 3.49039347e-01,  5.18320475e-02],\n",
       "       [ 2.65803583e+00,  3.49490740e-02],\n",
       "       [-1.34272221e+00,  1.57302515e-01],\n",
       "       [-1.73026340e-01,  6.13578430e-02],\n",
       "       [ 6.13676729e-01, -1.16464100e-01],\n",
       "       [-1.89940741e+00,  1.26393840e-04],\n",
       "       [-7.93074429e-01, -8.40401939e-02],\n",
       "       [-4.17072486e-01, -3.26912551e-03],\n",
       "       [ 1.54913526e-01, -1.35977010e-01],\n",
       "       [ 2.44646603e-01,  1.23357386e-01],\n",
       "       [ 7.26337140e-01, -2.31185881e-01],\n",
       "       [-7.91592424e-01, -1.65553219e-02],\n",
       "       [ 4.39666794e-01,  3.74049336e-02],\n",
       "       [-2.66630687e-01, -4.54841080e-02],\n",
       "       [-8.77131636e-01,  8.39045636e-02],\n",
       "       [-6.37447634e-01, -1.26191453e-01],\n",
       "       [-7.72982393e-01, -1.80436148e-01],\n",
       "       [-1.04616382e+00, -2.70917422e-01],\n",
       "       [ 1.15209837e+00,  1.70296296e-01],\n",
       "       [-5.26661400e-02,  2.53435288e-01],\n",
       "       [-9.74296354e-01,  1.59299503e-01],\n",
       "       [-6.24348505e-01,  2.99999965e-02],\n",
       "       [-1.00475074e+00, -6.19074182e-02],\n",
       "       [ 5.89973268e-01, -7.11873850e-02],\n",
       "       [ 1.50344054e+00,  2.49410266e-01],\n",
       "       [ 1.27433349e+00, -1.35521726e-02],\n",
       "       [-1.25658172e+00, -3.83491260e-02],\n",
       "       [ 1.37852445e-01, -2.90514917e-02],\n",
       "       [-1.36126475e+00, -2.11338817e-02],\n",
       "       [ 7.27518820e-01,  7.13551004e-03],\n",
       "       [ 4.50501231e-01,  2.09969271e-02],\n",
       "       [-1.17577071e-01, -6.02107305e-03],\n",
       "       [-8.49638130e-01,  3.70494278e-03],\n",
       "       [-9.51657336e-02, -9.32144273e-03],\n",
       "       [-1.81175961e-01,  8.87826210e-03],\n",
       "       [ 2.81596080e-01,  1.07511673e-01],\n",
       "       [-2.56560634e-01, -2.81842071e-02],\n",
       "       [ 8.52804745e-01, -5.63254552e-02],\n",
       "       [-4.77688980e-01, -1.35849029e-01],\n",
       "       [-2.96471868e-01, -1.58417778e-01],\n",
       "       [ 1.68108524e-03, -1.32621236e-02],\n",
       "       [-2.05727542e-01,  9.02947875e-02],\n",
       "       [ 8.12610001e-01,  6.90986331e-02],\n",
       "       [-7.06157363e-02, -4.72508076e-02],\n",
       "       [ 2.31690062e-01, -1.02421889e-02],\n",
       "       [-1.59605923e-01,  8.23272207e-02],\n",
       "       [-5.98727081e-01,  4.72125782e-02],\n",
       "       [ 1.01944512e+00,  5.31196102e-02],\n",
       "       [-7.01462226e-01, -5.21123677e-02],\n",
       "       [-1.40420099e+00,  1.76954830e-01],\n",
       "       [ 6.94997907e-01, -2.24640259e-01],\n",
       "       [ 5.18636606e-01, -8.09180525e-02],\n",
       "       [ 4.83061626e-01, -1.09408815e-01],\n",
       "       [ 6.79198052e-01,  1.51173114e-01],\n",
       "       [-1.30170017e+00,  7.09063876e-02],\n",
       "       [-2.71805220e-01, -8.58900888e-02],\n",
       "       [ 9.47603686e-01,  1.11545123e-01],\n",
       "       [-3.49630397e-01,  8.16807591e-02],\n",
       "       [ 4.85113462e-01, -1.88841298e-02],\n",
       "       [-3.04715098e-01,  2.57745706e-01],\n",
       "       [-3.31839520e-01, -1.33854420e-02],\n",
       "       [-1.38578436e+00, -3.31971953e-02],\n",
       "       [ 8.84502948e-01,  1.00276096e-01],\n",
       "       [-2.47084475e+00,  1.14843232e-01],\n",
       "       [-9.56899804e-02,  2.34825376e-01],\n",
       "       [-4.64806358e-01,  5.21249428e-02],\n",
       "       [ 7.06669625e-01,  2.33625162e-01],\n",
       "       [ 1.54312708e-01, -1.74122263e-01],\n",
       "       [ 5.45819213e-01, -8.34943531e-02],\n",
       "       [ 1.46023727e-01,  1.15988548e-02],\n",
       "       [ 9.57253276e-01,  8.20885098e-02],\n",
       "       [-6.91815248e-01, -1.45754887e-01],\n",
       "       [-1.00443516e-01, -2.94833747e-01],\n",
       "       [ 2.77924488e-01,  2.99615388e-01],\n",
       "       [-1.20207491e+00, -1.07726832e-01],\n",
       "       [-6.04953108e-02, -2.42479229e-01],\n",
       "       [-1.03273685e+00,  2.68126535e-02],\n",
       "       [ 6.88215760e-01,  1.67472633e-01],\n",
       "       [-1.21050656e+00, -4.69504001e-02],\n",
       "       [-2.40052449e-01,  6.10344465e-02],\n",
       "       [-6.06855334e-01,  1.52362015e-01],\n",
       "       [ 1.29217575e+00,  1.34627645e-01],\n",
       "       [-1.03282074e-01, -6.57356874e-02],\n",
       "       [-1.41361475e+00, -2.28323173e-02],\n",
       "       [ 7.57783205e-01,  7.00756512e-02],\n",
       "       [ 1.41360423e+00, -1.55883244e-01],\n",
       "       [ 1.99564613e+00,  7.67233940e-02],\n",
       "       [ 1.66865955e+00, -2.17311439e-01],\n",
       "       [ 1.66032125e+00, -9.47319393e-02],\n",
       "       [ 4.24742508e-01,  2.03171071e-02],\n",
       "       [-9.26445715e-01,  9.12224833e-02],\n",
       "       [ 3.28504629e-02, -1.25706416e-01],\n",
       "       [-5.17521702e-01, -7.20956324e-02],\n",
       "       [-9.24887775e-02, -6.30062621e-02],\n",
       "       [-3.05962249e-02, -3.57199779e-03],\n",
       "       [ 1.30795754e-01, -4.00179911e-03],\n",
       "       [-7.74659629e-02, -7.83158849e-02],\n",
       "       [-4.20826569e-01,  5.54588300e-03],\n",
       "       [ 6.78334448e-01, -1.36015287e-01],\n",
       "       [-6.35104074e-01,  1.06651554e-01],\n",
       "       [ 2.72075594e-01,  3.93203001e-01],\n",
       "       [-2.26801066e-01, -1.36909181e-01],\n",
       "       [-1.45908094e+00, -2.45286954e-01],\n",
       "       [ 4.03275391e-01, -7.98143251e-02],\n",
       "       [ 4.88618199e-01,  2.35232561e-03],\n",
       "       [-3.77797862e-02,  4.11805137e-02],\n",
       "       [ 2.25514691e-01,  2.18823208e-02],\n",
       "       [ 3.73320407e-01, -9.42631804e-03],\n",
       "       [ 9.96559672e-01,  1.35680064e-01],\n",
       "       [ 6.68655132e-01,  5.84565987e-02],\n",
       "       [-3.09207055e-01,  1.97249840e-01],\n",
       "       [ 1.44746288e+00, -1.14083649e-01],\n",
       "       [-1.27674147e-01,  7.26979511e-02],\n",
       "       [ 1.95898129e-02, -6.44892347e-02],\n",
       "       [-4.68331172e-01,  7.43248455e-02],\n",
       "       [-7.59794861e-01, -9.50500102e-02],\n",
       "       [ 2.11566325e+00, -1.50228254e-01],\n",
       "       [-1.28843614e+00, -2.56574123e-01],\n",
       "       [ 5.24455206e-01,  2.90379472e-01],\n",
       "       [ 2.68082969e-01,  1.04520533e-01],\n",
       "       [ 4.06271559e-02, -1.31461762e-01],\n",
       "       [-1.63087335e+00, -2.89691466e-01],\n",
       "       [ 4.50273668e-01,  2.87481726e-02],\n",
       "       [-1.41736985e+00,  9.84653747e-02],\n",
       "       [-3.20579341e-01,  7.34129168e-02],\n",
       "       [-2.16095416e+00, -6.30801894e-02],\n",
       "       [ 7.55938440e-01,  1.58567217e-02],\n",
       "       [ 1.13147728e+00, -1.63990641e-01],\n",
       "       [-4.01022769e-01,  9.35581760e-02],\n",
       "       [-1.33261395e-01,  2.30758543e-01],\n",
       "       [-1.20765775e-01, -2.63426989e-02],\n",
       "       [ 1.03185993e+00, -1.29167415e-01],\n",
       "       [-1.29878689e-01, -1.84090463e-01],\n",
       "       [-4.08011754e-01,  6.01636158e-02],\n",
       "       [ 4.17084437e-01,  9.04137707e-02],\n",
       "       [-1.00930809e-01, -6.78582909e-02],\n",
       "       [ 7.22839507e-02, -2.66653403e-02],\n",
       "       [ 6.47903117e-01, -6.91638080e-02],\n",
       "       [ 4.74689466e-01, -1.14557938e-03],\n",
       "       [ 6.85499472e-01, -2.13675563e-01],\n",
       "       [-1.49366216e+00,  5.05889730e-02],\n",
       "       [-3.49297457e-01, -2.69159245e-01],\n",
       "       [-7.79713261e-01, -1.13958001e-01],\n",
       "       [ 5.67446775e-01, -1.25273441e-01],\n",
       "       [ 5.18831382e-02,  2.76513979e-01],\n",
       "       [ 1.25350822e+00, -1.59067690e-01],\n",
       "       [-8.53016941e-01,  2.26324489e-03],\n",
       "       [-2.61547685e-01, -9.79084715e-02],\n",
       "       [-2.02667441e+00, -2.51066183e-02],\n",
       "       [ 1.20688282e+00,  5.97125713e-03],\n",
       "       [-3.53816725e-01, -9.42400167e-02]])"
      ]
     },
     "execution_count": 7,
     "metadata": {},
     "output_type": "execute_result"
    }
   ],
   "source": [
    "pca.transform(X) # Dot product of each row in X to the components"
   ]
  },
  {
   "cell_type": "markdown",
   "metadata": {
    "colab_type": "text",
    "id": "4piNngUczqFO"
   },
   "source": [
    "To see what these numbers mean, let's visualize them as vectors over the input data, using the \"components\" to define the direction of the vector, and the \"explained variance\" to define the squared-length of the vector:"
   ]
  },
  {
   "cell_type": "code",
   "execution_count": 8,
   "metadata": {
    "colab": {},
    "colab_type": "code",
    "id": "olPtnLAXzqFP",
    "outputId": "c3796079-e7a4-4b78-8fe0-05fb6af73275"
   },
   "outputs": [
    {
     "data": {
      "image/png": "[encoded data removed]",
      "text/plain": [
       "<Figure size 432x288 with 1 Axes>"
      ]
     },
     "metadata": {},
     "output_type": "display_data"
    }
   ],
   "source": [
    "def draw_vector(v0, v1, ax=None):\n",
    "    ax = ax or plt.gca()\n",
    "    arrowprops=dict(arrowstyle='->',\n",
    "                    linewidth=2,\n",
    "                    shrinkA=0, shrinkB=0)\n",
    "    ax.annotate('', v1, v0, arrowprops=arrowprops)\n",
    "\n",
    "# plot data\n",
    "plt.scatter(X[:, 0], X[:, 1], alpha=0.2)\n",
    "for length, vector in zip(pca.explained_variance_, pca.components_):\n",
    "    v = vector * 3 * np.sqrt(length)\n",
    "    draw_vector(pca.mean_, pca.mean_ + v)\n",
    "plt.axis('equal');"
   ]
  },
  {
   "cell_type": "markdown",
   "metadata": {
    "colab_type": "text",
    "id": "VyEJyX2AzqFR"
   },
   "source": [
    "These vectors represent the *principal axes* of the data, and the length of the vector is an indication of how \"important\" that axis is in describing the distribution of the data—more precisely, it is a measure of the variance of the data when projected onto that axis.\n",
    "The projection of each data point onto the principal axes are the \"principal components\" of the data.\n",
    "\n",
    "If we plot these principal components beside the original data, we see the plots shown here:"
   ]
  },
  {
   "cell_type": "markdown",
   "metadata": {
    "colab_type": "text",
    "id": "uP0n8Hh6zqFS"
   },
   "source": [
    "![](https://github.com/jakevdp/PythonDataScienceHandbook/blob/master/notebooks/figures/05.09-PCA-rotation.png?raw=1)\n"
   ]
  },
  {
   "cell_type": "markdown",
   "metadata": {
    "colab_type": "text",
    "id": "_eWbeAppzqFS"
   },
   "source": [
    "This transformation from data axes to principal axes is an *affine transformation*, which basically means it is composed of a translation, rotation, and uniform scaling.\n",
    "\n",
    "While this algorithm to find principal components may seem like just a mathematical curiosity, it turns out to have very far-reaching applications in the world of machine learning and data exploration."
   ]
  },
  {
   "cell_type": "markdown",
   "metadata": {},
   "source": [
    "[Deep Dive on how the axes is determined](https://www.youtube.com/watch?v=_UVHneBUBW0)\n",
    "\n",
    "[The linear algebra intuition behind this](https://www.youtube.com/watch?v=PFDu9oVAE-g)"
   ]
  },
  {
   "cell_type": "markdown",
   "metadata": {
    "colab_type": "text",
    "id": "b6BRmJjGzqFS"
   },
   "source": [
    "### PCA as dimensionality reduction\n",
    "\n",
    "Using PCA for dimensionality reduction involves zeroing out one or more of the smallest principal components, resulting in a lower-dimensional projection of the data that preserves the maximal data variance.\n",
    "\n",
    "Here is an example of using PCA as a dimensionality reduction transform:"
   ]
  },
  {
   "cell_type": "code",
   "execution_count": 9,
   "metadata": {
    "colab": {},
    "colab_type": "code",
    "id": "VQLuZlrzzqFT",
    "outputId": "76c9bf17-7075-451e-ca39-19886d1e0447"
   },
   "outputs": [
    {
     "name": "stdout",
     "output_type": "stream",
     "text": [
      "original shape:    (200, 2)\n",
      "transformed shape: (200, 1)\n"
     ]
    }
   ],
   "source": [
    "pca = PCA(n_components=1)\n",
    "pca.fit(X)\n",
    "X_pca = pca.transform(X)\n",
    "print(\"original shape:   \", X.shape)\n",
    "print(\"transformed shape:\", X_pca.shape)"
   ]
  },
  {
   "cell_type": "markdown",
   "metadata": {
    "colab_type": "text",
    "id": "0lzhntUTzqFV"
   },
   "source": [
    "The transformed data has been reduced to a single dimension.\n",
    "To understand the effect of this dimensionality reduction, we can perform the inverse transform of this reduced data and plot it along with the original data:"
   ]
  },
  {
   "cell_type": "code",
   "execution_count": 10,
   "metadata": {
    "colab": {},
    "colab_type": "code",
    "id": "Ph0MjpTHzqFW",
    "outputId": "cc3765a7-572d-4333-ba90-abad8f3088a9"
   },
   "outputs": [
    {
     "data": {
      "image/png": "[encoded data removed]",
      "text/plain": [
       "<Figure size 432x288 with 1 Axes>"
      ]
     },
     "metadata": {},
     "output_type": "display_data"
    }
   ],
   "source": [
    "X_new = pca.inverse_transform(X_pca)\n",
    "plt.scatter(X[:, 0], X[:, 1], alpha=0.2)\n",
    "plt.scatter(X_new[:, 0], X_new[:, 1], alpha=0.8)\n",
    "plt.axis('equal');"
   ]
  },
  {
   "cell_type": "markdown",
   "metadata": {
    "colab_type": "text",
    "id": "zgRLviaMzqFY"
   },
   "source": [
    "The light points are the original data, while the dark points are the projected version.\n",
    "This makes clear what a PCA dimensionality reduction means: the information along the least important principal axis or axes is removed, leaving only the component(s) of the data with the highest variance.\n",
    "The fraction of variance that is cut out (proportional to the spread of points about the line formed in this figure) is roughly a measure of how much \"information\" is discarded in this reduction of dimensionality.\n",
    "\n",
    "This reduced-dimension dataset is in some senses \"good enough\" to encode the most important relationships between the points: despite reducing the dimension of the data by 50%, the overall relationship between the data points are mostly preserved."
   ]
  },
  {
   "cell_type": "markdown",
   "metadata": {},
   "source": [
    "### Another view of what happened\n",
    "![pca](data:image/jpeg;base64,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)"
   ]
  },
  {
   "cell_type": "markdown",
   "metadata": {
    "colab_type": "text",
    "id": "6tU-5IIqzqFZ"
   },
   "source": [
    "### PCA for visualization: Hand-written digits\n",
    "\n",
    "The usefulness of the dimensionality reduction may not be entirely apparent in only two dimensions, but becomes much more clear when looking at high-dimensional data.\n",
    "To see this, let's take a quick look at the application of PCA to the digits data .\n",
    "\n",
    "We start by loading the data:"
   ]
  },
  {
   "cell_type": "code",
   "execution_count": 11,
   "metadata": {
    "colab": {},
    "colab_type": "code",
    "id": "vtaacUC3zqFa",
    "outputId": "0f2bb79b-7b21-49da-a0a7-3a2f9b172505"
   },
   "outputs": [
    {
     "data": {
      "text/plain": [
       "(1797, 64)"
      ]
     },
     "execution_count": 11,
     "metadata": {},
     "output_type": "execute_result"
    }
   ],
   "source": [
    "from sklearn.datasets import load_digits\n",
    "digits = load_digits()\n",
    "digits.data.shape"
   ]
  },
  {
   "cell_type": "code",
   "execution_count": 12,
   "metadata": {},
   "outputs": [
    {
     "data": {
      "text/plain": [
       "array([[ 0.,  0.,  0., 12., 13.,  5.,  0.,  0.],\n",
       "       [ 0.,  0.,  0., 11., 16.,  9.,  0.,  0.],\n",
       "       [ 0.,  0.,  3., 15., 16.,  6.,  0.,  0.],\n",
       "       [ 0.,  7., 15., 16., 16.,  2.,  0.,  0.],\n",
       "       [ 0.,  0.,  1., 16., 16.,  3.,  0.,  0.],\n",
       "       [ 0.,  0.,  1., 16., 16.,  6.,  0.,  0.],\n",
       "       [ 0.,  0.,  1., 16., 16.,  6.,  0.,  0.],\n",
       "       [ 0.,  0.,  0., 11., 16., 10.,  0.,  0.]])"
      ]
     },
     "execution_count": 12,
     "metadata": {},
     "output_type": "execute_result"
    }
   ],
   "source": [
    "digits.data[1].reshape((8,8))"
   ]
  },
  {
   "cell_type": "code",
   "execution_count": 13,
   "metadata": {},
   "outputs": [
    {
     "data": {
      "text/plain": [
       "1"
      ]
     },
     "execution_count": 13,
     "metadata": {},
     "output_type": "execute_result"
    }
   ],
   "source": [
    "digits.target[1]"
   ]
  },
  {
   "cell_type": "code",
   "execution_count": 14,
   "metadata": {},
   "outputs": [
    {
     "data": {
      "text/plain": [
       "<matplotlib.image.AxesImage at 0x1bc0295e588>"
      ]
     },
     "execution_count": 14,
     "metadata": {},
     "output_type": "execute_result"
    },
    {
     "data": {
      "image/png": "[encoded data removed]",
      "text/plain": [
       "<Figure size 432x288 with 1 Axes>"
      ]
     },
     "metadata": {},
     "output_type": "display_data"
    }
   ],
   "source": [
    "plt.imshow(digits.data[1].reshape((8,8)), cmap='Greys')"
   ]
  },
  {
   "cell_type": "markdown",
   "metadata": {
    "colab_type": "text",
    "id": "Qf1rE3OAzqFd"
   },
   "source": [
    "The data consists of 8×8 pixel images, meaning that they are 64-dimensional.\n",
    "To gain some intuition into the relationships between these points, we can use PCA to project them to a more manageable number of dimensions, say two:"
   ]
  },
  {
   "cell_type": "markdown",
   "metadata": {},
   "source": [
    "![MNIST](https://upload.wikimedia.org/wikipedia/commons/2/27/MnistExamples.png)"
   ]
  },
  {
   "cell_type": "code",
   "execution_count": 15,
   "metadata": {
    "colab": {},
    "colab_type": "code",
    "id": "nsRwQvdMzqFd",
    "outputId": "08a1ae2e-f44c-4194-890f-b75cffea8418"
   },
   "outputs": [
    {
     "name": "stdout",
     "output_type": "stream",
     "text": [
      "(1797, 64)\n",
      "(1797, 2)\n"
     ]
    }
   ],
   "source": [
    "pca = PCA(n_components=2)  # project from 64 to 2 dimensions\n",
    "projected = pca.fit_transform(digits.data)\n",
    "print(digits.data.shape)\n",
    "print(projected.shape)"
   ]
  },
  {
   "cell_type": "code",
   "execution_count": 16,
   "metadata": {},
   "outputs": [
    {
     "data": {
      "text/plain": [
       "array([179.0069301 , 163.71774688])"
      ]
     },
     "execution_count": 16,
     "metadata": {},
     "output_type": "execute_result"
    }
   ],
   "source": [
    "pca.explained_variance_\n",
    "# Results are high because data has not been standardized"
   ]
  },
  {
   "cell_type": "markdown",
   "metadata": {
    "colab_type": "text",
    "id": "theKjXZhzqFg"
   },
   "source": [
    "We can now plot the first two principal components of each point to learn about the data:"
   ]
  },
  {
   "cell_type": "code",
   "execution_count": 17,
   "metadata": {
    "colab": {},
    "colab_type": "code",
    "id": "oeAb8lmJzqFh",
    "outputId": "3c78698b-bb5c-4d80-a56f-52563f01bb47"
   },
   "outputs": [
    {
     "data": {
      "text/plain": [
       "<matplotlib.colorbar.Colorbar at 0x1bc0260d608>"
      ]
     },
     "execution_count": 17,
     "metadata": {},
     "output_type": "execute_result"
    },
    {
     "data": {
      "image/png": "[encoded data removed]",
      "text/plain": [
       "<Figure size 432x288 with 2 Axes>"
      ]
     },
     "metadata": {},
     "output_type": "display_data"
    }
   ],
   "source": [
    "import matplotlib as mpl\n",
    "cmap = mpl.colors.ListedColormap(['red', 'green', 'blue', 'yellow', 'purple', 'cyan', \n",
    "                                  'orange', 'pink', 'brown', 'black', 'teal'])\n",
    "plt.scatter(projected[:, 0], projected[:, 1],\n",
    "            c=digits.target, edgecolor='none', alpha=0.5,\n",
    "            cmap=cmap\n",
    "            )\n",
    "plt.xlabel('component 1')\n",
    "plt.ylabel('component 2')\n",
    "plt.colorbar()"
   ]
  },
  {
   "cell_type": "markdown",
   "metadata": {
    "colab_type": "text",
    "id": "enQFGYj8zqFk"
   },
   "source": [
    "Recall what these components mean: the full data is a 64-dimensional point cloud, and these points are the projection of each data point along the directions with the largest variance.\n",
    "Essentially, we have found the optimal stretch and rotation in 64-dimensional space that allows us to see the layout of the digits in two dimensions, and have done this in an unsupervised manner—that is, without reference to the labels."
   ]
  },
  {
   "cell_type": "markdown",
   "metadata": {
    "colab_type": "text",
    "id": "Uoqz1-gazqFr"
   },
   "source": [
    "### Choosing the number of components\n",
    "\n",
    "A vital part of using PCA in practice is the ability to estimate how many components are needed to describe the data.\n",
    "This can be determined by looking at the cumulative *explained variance ratio* as a function of the number of components:"
   ]
  },
  {
   "cell_type": "code",
   "execution_count": 18,
   "metadata": {
    "colab": {},
    "colab_type": "code",
    "id": "DnAGsCnUzqFs",
    "outputId": "a55837a7-a33c-43e3-9f91-86ae81d79b21"
   },
   "outputs": [
    {
     "data": {
      "image/png": "[encoded data removed]",
      "text/plain": [
       "<Figure size 432x288 with 1 Axes>"
      ]
     },
     "metadata": {},
     "output_type": "display_data"
    }
   ],
   "source": [
    "pca = PCA().fit(digits.data) # Default value of n_components is min(n_samples, n_features) - 1\n",
    "plt.plot(np.cumsum(pca.explained_variance_ratio_))\n",
    "plt.xlabel('number of components')\n",
    "plt.ylabel('cumulative explained variance');"
   ]
  },
  {
   "cell_type": "code",
   "execution_count": 19,
   "metadata": {},
   "outputs": [
    {
     "data": {
      "text/plain": [
       "1.0000000000000002"
      ]
     },
     "execution_count": 19,
     "metadata": {},
     "output_type": "execute_result"
    }
   ],
   "source": [
    "pca.explained_variance_ratio_.sum()"
   ]
  },
  {
   "cell_type": "code",
   "execution_count": 20,
   "metadata": {},
   "outputs": [
    {
     "data": {
      "text/plain": [
       "29"
      ]
     },
     "execution_count": 20,
     "metadata": {},
     "output_type": "execute_result"
    }
   ],
   "source": [
    "pca = PCA(0.95) # means we're looking for cumulative explained variance ratio of 0.95\n",
    "pca.fit(digits.data)\n",
    "len(pca.explained_variance_ratio_)\n",
    "# Result: We need 29 components to achieve 0.95 explained variance ratio"
   ]
  },
  {
   "cell_type": "markdown",
   "metadata": {
    "colab_type": "text",
    "id": "_vZmzc7izqFu"
   },
   "source": [
    "This curve quantifies how much of the total, 64-dimensional variance is contained within the first $N$ components.\n",
    "For example, we see that with the digits the first 10 components contain approximately 75% of the variance, while you need around 50 components to describe close to 100% of the variance.\n",
    "\n",
    "Here we see that our two-dimensional projection loses a lot of information (as measured by the explained variance) and that we'd need about 20 components to retain 90% of the variance.  Looking at this plot for a high-dimensional dataset can help you understand the level of redundancy present in multiple observations."
   ]
  },
  {
   "cell_type": "markdown",
   "metadata": {
    "colab_type": "text",
    "id": "g_tvkE-DzqFv"
   },
   "source": [
    "## PCA as Noise Filtering\n",
    "\n",
    "PCA can also be used as a filtering approach for noisy data.\n",
    "The idea is this: any components with variance much larger than the effect of the noise should be relatively unaffected by the noise.\n",
    "So if you reconstruct the data using just the largest subset of principal components, you should be preferentially keeping the signal and throwing out the noise.\n",
    "\n",
    "Let's see how this looks with the digits data.\n",
    "First we will plot several of the input noise-free data:"
   ]
  },
  {
   "cell_type": "code",
   "execution_count": 21,
   "metadata": {
    "colab": {},
    "colab_type": "code",
    "id": "eYwp6c0ezqFv",
    "outputId": "87310218-30c2-4991-dfe5-69a9ac3f7cfc"
   },
   "outputs": [
    {
     "data": {
      "image/png": "[encoded data removed]",
      "text/plain": [
       "<Figure size 720x288 with 40 Axes>"
      ]
     },
     "metadata": {},
     "output_type": "display_data"
    }
   ],
   "source": [
    "def plot_digits(data):\n",
    "    fig, axes = plt.subplots(4, 10, figsize=(10, 4),\n",
    "                             subplot_kw={'xticks':[], 'yticks':[]},\n",
    "                             gridspec_kw=dict(hspace=0.1, wspace=0.1))\n",
    "    for i, ax in enumerate(axes.flat):\n",
    "        ax.imshow(data[i].reshape(8, 8),\n",
    "                  cmap='binary', interpolation='nearest',\n",
    "                  clim=(0, 16))\n",
    "plot_digits(digits.data)"
   ]
  },
  {
   "cell_type": "markdown",
   "metadata": {
    "colab_type": "text",
    "id": "ZAnMZ59kzqFx"
   },
   "source": [
    "Now lets add some random noise to create a noisy dataset, and re-plot it:"
   ]
  },
  {
   "cell_type": "code",
   "execution_count": 22,
   "metadata": {
    "colab": {},
    "colab_type": "code",
    "id": "6-rToaInzqFy",
    "outputId": "46f15f6c-676c-4266-9c98-c8fb10413bd0"
   },
   "outputs": [
    {
     "data": {
      "image/png": "[encoded data removed]",
      "text/plain": [
       "<Figure size 720x288 with 40 Axes>"
      ]
     },
     "metadata": {},
     "output_type": "display_data"
    }
   ],
   "source": [
    "np.random.seed(42)\n",
    "noisy = np.random.normal(digits.data, 4)\n",
    "plot_digits(noisy)"
   ]
  },
  {
   "cell_type": "markdown",
   "metadata": {
    "colab_type": "text",
    "id": "WBzxvvN6zqF2"
   },
   "source": [
    "It's clear by eye that the images are noisy, and contain spurious pixels.\n",
    "Let's train a PCA on the noisy data, requesting that the projection preserve 50% of the variance:"
   ]
  },
  {
   "cell_type": "code",
   "execution_count": 23,
   "metadata": {
    "colab": {},
    "colab_type": "code",
    "id": "RrUyJK5zzqF2",
    "outputId": "fe27b064-299d-4dff-a5a0-05a078048af4"
   },
   "outputs": [
    {
     "data": {
      "text/plain": [
       "12"
      ]
     },
     "execution_count": 23,
     "metadata": {},
     "output_type": "execute_result"
    }
   ],
   "source": [
    "pca = PCA(0.50).fit(noisy) # We tell PCA to get rid of 50% of variance\n",
    "pca.n_components_ # 12 components have been created"
   ]
  },
  {
   "cell_type": "markdown",
   "metadata": {
    "colab_type": "text",
    "id": "b-pbFinszqF4"
   },
   "source": [
    "Here 50% of the variance amounts to 12 principal components.\n",
    "Now we compute these components, and then use the inverse of the transform to reconstruct the filtered digits:"
   ]
  },
  {
   "cell_type": "code",
   "execution_count": 24,
   "metadata": {
    "colab": {},
    "colab_type": "code",
    "id": "J874pfAqzqF5",
    "outputId": "6a67d537-1295-41bc-ef89-07cc25fec745"
   },
   "outputs": [
    {
     "data": {
      "image/png": "[encoded data removed]",
      "text/plain": [
       "<Figure size 720x288 with 40 Axes>"
      ]
     },
     "metadata": {},
     "output_type": "display_data"
    }
   ],
   "source": [
    "components = pca.transform(noisy)\n",
    "filtered = pca.inverse_transform(components)\n",
    "plot_digits(filtered)\n",
    "# Notice that data noise has been reduced markedly. We can then build a model to train on this data (see below)"
   ]
  },
  {
   "cell_type": "markdown",
   "metadata": {
    "colab_type": "text",
    "id": "p_qThADFzqF8"
   },
   "source": [
    "This signal preserving/noise filtering property makes PCA a very useful feature selection routine—for example, rather than training a classifier on very high-dimensional data, you might instead train the classifier on the lower-dimensional representation, which will automatically serve to filter out random noise in the inputs."
   ]
  },
  {
   "cell_type": "code",
   "execution_count": 25,
   "metadata": {},
   "outputs": [
    {
     "data": {
      "text/plain": [
       "0.9844184752365053"
      ]
     },
     "execution_count": 25,
     "metadata": {},
     "output_type": "execute_result"
    }
   ],
   "source": [
    "from sklearn.svm import SVC\n",
    "svc = SVC()\n",
    "\n",
    "svc.fit(noisy, digits.target)\n",
    "svc.score(noisy, digits.target)"
   ]
  },
  {
   "cell_type": "markdown",
   "metadata": {
    "colab_type": "text",
    "id": "NsfWc-5_zqGM"
   },
   "source": [
    "## Principal Component Analysis Summary\n",
    "\n",
    "We have discussed the use of principal component analysis for dimensionality reduction, for visualization of high-dimensional data, for noise filtering, and for feature selection within high-dimensional data.\n",
    "Because of the versatility and interpretability of PCA, it has been shown to be effective in a wide variety of contexts and disciplines.\n",
    "Given any high-dimensional dataset, I tend to start with PCA in order to visualize the relationship between points (as we did with the digits), to understand the main variance in the data (as we did with the eigenfaces), and to understand the intrinsic dimensionality (by plotting the explained variance ratio).\n",
    "Certainly PCA is not useful for every high-dimensional dataset, but it offers a straightforward and efficient path to gaining insight into high-dimensional data.\n",
    "\n",
    "PCA's main weakness is that it tends to be highly affected by outliers in the data.\n",
    "For this reason, many robust variants of PCA have been developed, many of which act to iteratively discard data points that are poorly described by the initial components.\n",
    "Scikit-Learn contains a couple interesting variants on PCA, including ``RandomizedPCA`` and ``SparsePCA``, both also in the ``sklearn.decomposition`` submodule.\n",
    "``RandomizedPCA``, which we saw earlier, uses a non-deterministic method to quickly approximate the first few principal components in very high-dimensional data, while ``SparsePCA`` introduces a regularization term (see [In Depth: Linear Regression](05.06-Linear-Regression.ipynb)) that serves to enforce sparsity of the components.\n",
    "\n",
    "In the following sections, we will look at other unsupervised learning methods that build on some of the ideas of PCA."
   ]
  },
  {
   "cell_type": "markdown",
   "metadata": {},
   "source": [
    "## Practice on new data set"
   ]
  },
  {
   "cell_type": "code",
   "execution_count": null,
   "metadata": {},
   "outputs": [],
   "source": []
  }
 ],
 "metadata": {
  "colab": {
   "collapsed_sections": [
    "b6BRmJjGzqFS",
    "6tU-5IIqzqFZ",
    "jDO3nDlXzqFk",
    "Uoqz1-gazqFr"
   ],
   "name": "Copy of 05.09-Principal-Component-Analysis.ipynb",
   "provenance": [
    {
     "file_id": "https://github.com/jakevdp/PythonDataScienceHandbook/blob/master/notebooks/05.09-Principal-Component-Analysis.ipynb",
     "timestamp": 1557945856916
    }
   ],
   "version": "0.3.2"
  },
  "kernelspec": {
   "display_name": "Python 3",
   "language": "python",
   "name": "python3"
  },
  "language_info": {
   "codemirror_mode": {
    "name": "ipython",
    "version": 3
   },
   "file_extension": ".py",
   "mimetype": "text/x-python",
   "name": "python",
   "nbconvert_exporter": "python",
   "pygments_lexer": "ipython3",
   "version": "3.7.6"
  }
 },
 "nbformat": 4,
 "nbformat_minor": 4
}
