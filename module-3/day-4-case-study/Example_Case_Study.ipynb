{
 "cells": [
  {
   "cell_type": "markdown",
   "metadata": {},
   "source": [
    "<img src=\"https://images.pexels.com/photos/248152/pexels-photo-248152.jpeg?auto=compress&cs=tinysrgb&dpr=2&h=750&w=1260\" style='width:300px'>\n",
    "\n",
    "## Classification Case Study\n",
    "\n",
    "The researchers at SABIC Innovative Plastics US are working on refining the manufacturing process for new polymers. Creating this polymer involves combining 12 materials and 45 mechanical processes (order of processes is unimportant). The prices of ingredients vary as do the amount of time needed for each process done by individual machines that would otherwise be used to make other products. The CSuite requires a pared down list of materials and processes before polymers can go to market. \n",
    "\n",
    "A polymer yield greater than or equal to 41 grams is considered \"high\".\n",
    "\n",
    "You will use logistic regression to create a classification model find the material and process combination that produces high yield."
   ]
  },
  {
   "cell_type": "markdown",
   "metadata": {},
   "source": [
    "### Business Problem\n",
    "\n",
    "#### End Users:\n",
    "\n",
    "- Scientists, budgeting department, CSuite\n",
    "\n",
    "#### True business problem:\n",
    "\n",
    "- Create a model that can, if given data from from repeated chemical manufacturing trials, predict if the polymer yield will be high (worth the money). \n",
    "\n",
    "#### Context:\n",
    "\n",
    "- **False negative** in this context: Predicts that an actually high-yield combination will be low yield.\n",
    "    - **Outcome**: Missed polymer opportunity\n",
    "    \n",
    "- **False positive** in this context: Predicts that an actually low-yield combination will be high yield.\n",
    "\n",
    "    - **Outcome**: Unreliable formula. Takes longer to go to market. Potential company waste.\n",
    "\n",
    "#### Evaluation \n",
    "\n",
    "Which metric (of the ones we've explore so far) would make sense to primarily use as we evaluate our models?\n",
    "\n",
    "- **Accuracy**\n",
    "- Precision\n",
    "- Recall\n",
    "- F1-Score"
   ]
  },
  {
   "cell_type": "markdown",
   "metadata": {},
   "source": [
    "## Import necessary packages"
   ]
  },
  {
   "cell_type": "code",
   "execution_count": 1,
   "metadata": {},
   "outputs": [],
   "source": [
    "import numpy as np\n",
    "import pandas as pd\n",
    "from sklearn.pipeline import Pipeline\n",
    "from sklearn.preprocessing import MaxAbsScaler\n",
    "from sklearn.impute import SimpleImputer\n",
    "from sklearn.model_selection import train_test_split\n",
    "from sklearn.linear_model import LogisticRegression\n",
    "\n",
    "from sklearn.metrics import accuracy_score, precision_score, recall_score, f1_score\n",
    "\n",
    "import matplotlib.pyplot as plt\n",
    "from matplotlib.ticker import MaxNLocator\n",
    "%matplotlib inline\n",
    "\n",
    "from IPython.display import display, HTML"
   ]
  },
  {
   "cell_type": "markdown",
   "metadata": {},
   "source": [
    "## Read in data & take a look"
   ]
  },
  {
   "cell_type": "code",
   "execution_count": 2,
   "metadata": {},
   "outputs": [],
   "source": [
    "df = pd.read_csv('ChemicalManufacturingProcess.csv')"
   ]
  },
  {
   "cell_type": "code",
   "execution_count": 3,
   "metadata": {},
   "outputs": [
    {
     "name": "stdout",
     "output_type": "stream",
     "text": [
      "<class 'pandas.core.frame.DataFrame'>\n",
      "RangeIndex: 176 entries, 0 to 175\n",
      "Data columns (total 59 columns):\n",
      " #   Column                  Non-Null Count  Dtype  \n",
      "---  ------                  --------------  -----  \n",
      " 0   Unnamed: 0              176 non-null    int64  \n",
      " 1   Yield                   176 non-null    float64\n",
      " 2   BiologicalMaterial01    176 non-null    float64\n",
      " 3   BiologicalMaterial02    176 non-null    float64\n",
      " 4   BiologicalMaterial03    176 non-null    float64\n",
      " 5   BiologicalMaterial04    176 non-null    float64\n",
      " 6   BiologicalMaterial05    176 non-null    float64\n",
      " 7   BiologicalMaterial06    176 non-null    float64\n",
      " 8   BiologicalMaterial07    176 non-null    float64\n",
      " 9   BiologicalMaterial08    176 non-null    float64\n",
      " 10  BiologicalMaterial09    176 non-null    float64\n",
      " 11  BiologicalMaterial10    176 non-null    float64\n",
      " 12  BiologicalMaterial11    176 non-null    float64\n",
      " 13  BiologicalMaterial12    176 non-null    float64\n",
      " 14  ManufacturingProcess01  175 non-null    float64\n",
      " 15  ManufacturingProcess02  173 non-null    float64\n",
      " 16  ManufacturingProcess03  161 non-null    float64\n",
      " 17  ManufacturingProcess04  175 non-null    float64\n",
      " 18  ManufacturingProcess05  175 non-null    float64\n",
      " 19  ManufacturingProcess06  174 non-null    float64\n",
      " 20  ManufacturingProcess07  175 non-null    float64\n",
      " 21  ManufacturingProcess08  175 non-null    float64\n",
      " 22  ManufacturingProcess09  176 non-null    float64\n",
      " 23  ManufacturingProcess10  167 non-null    float64\n",
      " 24  ManufacturingProcess11  166 non-null    float64\n",
      " 25  ManufacturingProcess12  175 non-null    float64\n",
      " 26  ManufacturingProcess13  176 non-null    float64\n",
      " 27  ManufacturingProcess14  175 non-null    float64\n",
      " 28  ManufacturingProcess15  176 non-null    float64\n",
      " 29  ManufacturingProcess16  176 non-null    float64\n",
      " 30  ManufacturingProcess17  176 non-null    float64\n",
      " 31  ManufacturingProcess18  176 non-null    float64\n",
      " 32  ManufacturingProcess19  176 non-null    float64\n",
      " 33  ManufacturingProcess20  176 non-null    float64\n",
      " 34  ManufacturingProcess21  176 non-null    float64\n",
      " 35  ManufacturingProcess22  175 non-null    float64\n",
      " 36  ManufacturingProcess23  175 non-null    float64\n",
      " 37  ManufacturingProcess24  175 non-null    float64\n",
      " 38  ManufacturingProcess25  171 non-null    float64\n",
      " 39  ManufacturingProcess26  171 non-null    float64\n",
      " 40  ManufacturingProcess27  171 non-null    float64\n",
      " 41  ManufacturingProcess28  171 non-null    float64\n",
      " 42  ManufacturingProcess29  171 non-null    float64\n",
      " 43  ManufacturingProcess30  171 non-null    float64\n",
      " 44  ManufacturingProcess31  171 non-null    float64\n",
      " 45  ManufacturingProcess32  176 non-null    float64\n",
      " 46  ManufacturingProcess33  171 non-null    float64\n",
      " 47  ManufacturingProcess34  171 non-null    float64\n",
      " 48  ManufacturingProcess35  171 non-null    float64\n",
      " 49  ManufacturingProcess36  171 non-null    float64\n",
      " 50  ManufacturingProcess37  176 non-null    float64\n",
      " 51  ManufacturingProcess38  176 non-null    float64\n",
      " 52  ManufacturingProcess39  176 non-null    float64\n",
      " 53  ManufacturingProcess40  175 non-null    float64\n",
      " 54  ManufacturingProcess41  175 non-null    float64\n",
      " 55  ManufacturingProcess42  176 non-null    float64\n",
      " 56  ManufacturingProcess43  176 non-null    float64\n",
      " 57  ManufacturingProcess44  176 non-null    float64\n",
      " 58  ManufacturingProcess45  176 non-null    float64\n",
      "dtypes: float64(58), int64(1)\n",
      "memory usage: 81.2 KB\n"
     ]
    }
   ],
   "source": [
    "df.info()"
   ]
  },
  {
   "cell_type": "code",
   "execution_count": 4,
   "metadata": {},
   "outputs": [
    {
     "data": {
      "text/html": [
       "<div>\n",
       "<style scoped>\n",
       "    .dataframe tbody tr th:only-of-type {\n",
       "        vertical-align: middle;\n",
       "    }\n",
       "\n",
       "    .dataframe tbody tr th {\n",
       "        vertical-align: top;\n",
       "    }\n",
       "\n",
       "    .dataframe thead th {\n",
       "        text-align: right;\n",
       "    }\n",
       "</style>\n",
       "<table border=\"1\" class=\"dataframe\">\n",
       "  <thead>\n",
       "    <tr style=\"text-align: right;\">\n",
       "      <th></th>\n",
       "      <th>Unnamed: 0</th>\n",
       "      <th>Yield</th>\n",
       "      <th>BiologicalMaterial01</th>\n",
       "      <th>BiologicalMaterial02</th>\n",
       "      <th>BiologicalMaterial03</th>\n",
       "      <th>BiologicalMaterial04</th>\n",
       "      <th>BiologicalMaterial05</th>\n",
       "      <th>BiologicalMaterial06</th>\n",
       "      <th>BiologicalMaterial07</th>\n",
       "      <th>BiologicalMaterial08</th>\n",
       "      <th>...</th>\n",
       "      <th>ManufacturingProcess36</th>\n",
       "      <th>ManufacturingProcess37</th>\n",
       "      <th>ManufacturingProcess38</th>\n",
       "      <th>ManufacturingProcess39</th>\n",
       "      <th>ManufacturingProcess40</th>\n",
       "      <th>ManufacturingProcess41</th>\n",
       "      <th>ManufacturingProcess42</th>\n",
       "      <th>ManufacturingProcess43</th>\n",
       "      <th>ManufacturingProcess44</th>\n",
       "      <th>ManufacturingProcess45</th>\n",
       "    </tr>\n",
       "  </thead>\n",
       "  <tbody>\n",
       "    <tr>\n",
       "      <th>0</th>\n",
       "      <td>0</td>\n",
       "      <td>38.00</td>\n",
       "      <td>6.25</td>\n",
       "      <td>49.58</td>\n",
       "      <td>56.97</td>\n",
       "      <td>12.74</td>\n",
       "      <td>19.51</td>\n",
       "      <td>43.73</td>\n",
       "      <td>100.0</td>\n",
       "      <td>16.66</td>\n",
       "      <td>...</td>\n",
       "      <td>0.019</td>\n",
       "      <td>0.5</td>\n",
       "      <td>3.0</td>\n",
       "      <td>7.2</td>\n",
       "      <td>NaN</td>\n",
       "      <td>NaN</td>\n",
       "      <td>11.6</td>\n",
       "      <td>3.0</td>\n",
       "      <td>1.8</td>\n",
       "      <td>2.4</td>\n",
       "    </tr>\n",
       "    <tr>\n",
       "      <th>1</th>\n",
       "      <td>1</td>\n",
       "      <td>42.44</td>\n",
       "      <td>8.01</td>\n",
       "      <td>60.97</td>\n",
       "      <td>67.48</td>\n",
       "      <td>14.65</td>\n",
       "      <td>19.36</td>\n",
       "      <td>53.14</td>\n",
       "      <td>100.0</td>\n",
       "      <td>19.04</td>\n",
       "      <td>...</td>\n",
       "      <td>0.019</td>\n",
       "      <td>2.0</td>\n",
       "      <td>2.0</td>\n",
       "      <td>7.2</td>\n",
       "      <td>0.1</td>\n",
       "      <td>0.15</td>\n",
       "      <td>11.1</td>\n",
       "      <td>0.9</td>\n",
       "      <td>1.9</td>\n",
       "      <td>2.2</td>\n",
       "    </tr>\n",
       "    <tr>\n",
       "      <th>2</th>\n",
       "      <td>2</td>\n",
       "      <td>42.03</td>\n",
       "      <td>8.01</td>\n",
       "      <td>60.97</td>\n",
       "      <td>67.48</td>\n",
       "      <td>14.65</td>\n",
       "      <td>19.36</td>\n",
       "      <td>53.14</td>\n",
       "      <td>100.0</td>\n",
       "      <td>19.04</td>\n",
       "      <td>...</td>\n",
       "      <td>0.018</td>\n",
       "      <td>0.7</td>\n",
       "      <td>2.0</td>\n",
       "      <td>7.2</td>\n",
       "      <td>0.0</td>\n",
       "      <td>0.00</td>\n",
       "      <td>12.0</td>\n",
       "      <td>1.0</td>\n",
       "      <td>1.8</td>\n",
       "      <td>2.3</td>\n",
       "    </tr>\n",
       "    <tr>\n",
       "      <th>3</th>\n",
       "      <td>3</td>\n",
       "      <td>41.42</td>\n",
       "      <td>8.01</td>\n",
       "      <td>60.97</td>\n",
       "      <td>67.48</td>\n",
       "      <td>14.65</td>\n",
       "      <td>19.36</td>\n",
       "      <td>53.14</td>\n",
       "      <td>100.0</td>\n",
       "      <td>19.04</td>\n",
       "      <td>...</td>\n",
       "      <td>0.018</td>\n",
       "      <td>1.2</td>\n",
       "      <td>2.0</td>\n",
       "      <td>7.2</td>\n",
       "      <td>0.0</td>\n",
       "      <td>0.00</td>\n",
       "      <td>10.6</td>\n",
       "      <td>1.1</td>\n",
       "      <td>1.8</td>\n",
       "      <td>2.1</td>\n",
       "    </tr>\n",
       "    <tr>\n",
       "      <th>4</th>\n",
       "      <td>4</td>\n",
       "      <td>42.49</td>\n",
       "      <td>7.47</td>\n",
       "      <td>63.33</td>\n",
       "      <td>72.25</td>\n",
       "      <td>14.02</td>\n",
       "      <td>17.91</td>\n",
       "      <td>54.66</td>\n",
       "      <td>100.0</td>\n",
       "      <td>18.22</td>\n",
       "      <td>...</td>\n",
       "      <td>0.017</td>\n",
       "      <td>0.2</td>\n",
       "      <td>2.0</td>\n",
       "      <td>7.3</td>\n",
       "      <td>0.0</td>\n",
       "      <td>0.00</td>\n",
       "      <td>11.0</td>\n",
       "      <td>1.1</td>\n",
       "      <td>1.7</td>\n",
       "      <td>2.1</td>\n",
       "    </tr>\n",
       "  </tbody>\n",
       "</table>\n",
       "<p>5 rows × 59 columns</p>\n",
       "</div>"
      ],
      "text/plain": [
       "   Unnamed: 0  Yield  BiologicalMaterial01  BiologicalMaterial02  \\\n",
       "0           0  38.00                  6.25                 49.58   \n",
       "1           1  42.44                  8.01                 60.97   \n",
       "2           2  42.03                  8.01                 60.97   \n",
       "3           3  41.42                  8.01                 60.97   \n",
       "4           4  42.49                  7.47                 63.33   \n",
       "\n",
       "   BiologicalMaterial03  BiologicalMaterial04  BiologicalMaterial05  \\\n",
       "0                 56.97                 12.74                 19.51   \n",
       "1                 67.48                 14.65                 19.36   \n",
       "2                 67.48                 14.65                 19.36   \n",
       "3                 67.48                 14.65                 19.36   \n",
       "4                 72.25                 14.02                 17.91   \n",
       "\n",
       "   BiologicalMaterial06  BiologicalMaterial07  BiologicalMaterial08  ...  \\\n",
       "0                 43.73                 100.0                 16.66  ...   \n",
       "1                 53.14                 100.0                 19.04  ...   \n",
       "2                 53.14                 100.0                 19.04  ...   \n",
       "3                 53.14                 100.0                 19.04  ...   \n",
       "4                 54.66                 100.0                 18.22  ...   \n",
       "\n",
       "   ManufacturingProcess36  ManufacturingProcess37  ManufacturingProcess38  \\\n",
       "0                   0.019                     0.5                     3.0   \n",
       "1                   0.019                     2.0                     2.0   \n",
       "2                   0.018                     0.7                     2.0   \n",
       "3                   0.018                     1.2                     2.0   \n",
       "4                   0.017                     0.2                     2.0   \n",
       "\n",
       "   ManufacturingProcess39  ManufacturingProcess40  ManufacturingProcess41  \\\n",
       "0                     7.2                     NaN                     NaN   \n",
       "1                     7.2                     0.1                    0.15   \n",
       "2                     7.2                     0.0                    0.00   \n",
       "3                     7.2                     0.0                    0.00   \n",
       "4                     7.3                     0.0                    0.00   \n",
       "\n",
       "   ManufacturingProcess42  ManufacturingProcess43  ManufacturingProcess44  \\\n",
       "0                    11.6                     3.0                     1.8   \n",
       "1                    11.1                     0.9                     1.9   \n",
       "2                    12.0                     1.0                     1.8   \n",
       "3                    10.6                     1.1                     1.8   \n",
       "4                    11.0                     1.1                     1.7   \n",
       "\n",
       "   ManufacturingProcess45  \n",
       "0                     2.4  \n",
       "1                     2.2  \n",
       "2                     2.3  \n",
       "3                     2.1  \n",
       "4                     2.1  \n",
       "\n",
       "[5 rows x 59 columns]"
      ]
     },
     "execution_count": 4,
     "metadata": {},
     "output_type": "execute_result"
    }
   ],
   "source": [
    "df.head()"
   ]
  },
  {
   "cell_type": "markdown",
   "metadata": {},
   "source": [
    "## Train test split\n",
    "\n",
    "Encode `Yield` into `1/0` depending on if it's equal or greater than 41."
   ]
  },
  {
   "cell_type": "code",
   "execution_count": 5,
   "metadata": {},
   "outputs": [],
   "source": [
    "# train test split\n",
    "\n",
    "X = df.drop(columns = ['Yield'])\n",
    "y = (df['Yield'] >= 41).astype(int)\n",
    "\n",
    "X_train, X_test, y_train, y_test = train_test_split(X, y, test_size=0.25, random_state=42)"
   ]
  },
  {
   "cell_type": "markdown",
   "metadata": {},
   "source": [
    "## Preprocessing pipeling\n",
    "- impute missing values in columns\n",
    "- scale using max absolute value (this was chosen after trial and error with other scalers)"
   ]
  },
  {
   "cell_type": "code",
   "execution_count": 6,
   "metadata": {},
   "outputs": [],
   "source": [
    "# Pipeline preprocessing\n",
    "imp = SimpleImputer(missing_values=np.nan, strategy='median')\n",
    "mscale = MaxAbsScaler()\n",
    "\n",
    "prep = [('imputer', imp), ('scaler', mscale)]\n",
    "\n",
    "pipe = Pipeline(prep)"
   ]
  },
  {
   "cell_type": "code",
   "execution_count": 7,
   "metadata": {},
   "outputs": [
    {
     "data": {
      "text/plain": [
       "Pipeline(memory=None,\n",
       "         steps=[('imputer',\n",
       "                 SimpleImputer(add_indicator=False, copy=True, fill_value=None,\n",
       "                               missing_values=nan, strategy='median',\n",
       "                               verbose=0)),\n",
       "                ('scaler', MaxAbsScaler(copy=True))],\n",
       "         verbose=False)"
      ]
     },
     "execution_count": 7,
     "metadata": {},
     "output_type": "execute_result"
    }
   ],
   "source": [
    "pipe.fit(X_train)"
   ]
  },
  {
   "cell_type": "code",
   "execution_count": 8,
   "metadata": {},
   "outputs": [],
   "source": [
    "X_train_prepped = pipe.transform(X_train)"
   ]
  },
  {
   "cell_type": "markdown",
   "metadata": {},
   "source": [
    "## Create logistic regression model\n",
    "Using *all* variables. "
   ]
  },
  {
   "cell_type": "code",
   "execution_count": 9,
   "metadata": {},
   "outputs": [],
   "source": [
    "lgrg1 = LogisticRegression(random_state = 100)"
   ]
  },
  {
   "cell_type": "code",
   "execution_count": 10,
   "metadata": {},
   "outputs": [
    {
     "data": {
      "text/plain": [
       "LogisticRegression(C=1.0, class_weight=None, dual=False, fit_intercept=True,\n",
       "                   intercept_scaling=1, l1_ratio=None, max_iter=100,\n",
       "                   multi_class='auto', n_jobs=None, penalty='l2',\n",
       "                   random_state=100, solver='lbfgs', tol=0.0001, verbose=0,\n",
       "                   warm_start=False)"
      ]
     },
     "execution_count": 10,
     "metadata": {},
     "output_type": "execute_result"
    }
   ],
   "source": [
    "lgrg1.fit(X_train_prepped, y_train)"
   ]
  },
  {
   "cell_type": "code",
   "execution_count": 11,
   "metadata": {},
   "outputs": [],
   "source": [
    "y_pred = lgrg1.predict(X_train_prepped)"
   ]
  },
  {
   "cell_type": "markdown",
   "metadata": {},
   "source": [
    "## Evaluate\n",
    "Check the accuracy of the model. <br>\n",
    "Remember, `sklearn` uses a threshold cutoff of `0.5`"
   ]
  },
  {
   "cell_type": "code",
   "execution_count": 12,
   "metadata": {},
   "outputs": [
    {
     "data": {
      "text/plain": [
       "0.8257575757575758"
      ]
     },
     "execution_count": 12,
     "metadata": {},
     "output_type": "execute_result"
    }
   ],
   "source": [
    "accuracy_score(y_train, y_pred)"
   ]
  },
  {
   "cell_type": "markdown",
   "metadata": {},
   "source": [
    "## But is that the **BEST** cutoff?\n",
    "\n",
    "- get predicted probabilities using `X_train_prepped`\n",
    "- use `pipe` to transform `X_test`\n",
    "- predict `y_test_pred_probs` using `lgrg1`"
   ]
  },
  {
   "cell_type": "code",
   "execution_count": 13,
   "metadata": {},
   "outputs": [],
   "source": [
    "y_train_pred_probs = lgrg1.predict_proba(X_train_prepped)[:, 1]"
   ]
  },
  {
   "cell_type": "code",
   "execution_count": 14,
   "metadata": {},
   "outputs": [],
   "source": [
    "# Transform X_test\n",
    "X_test_transformed = pipe.transform(X_test)\n",
    "\n",
    "# Get probabilites\n",
    "y_test_pred_probs = lgrg1.predict_proba(X_test_transformed)[:, 1]"
   ]
  },
  {
   "cell_type": "markdown",
   "metadata": {},
   "source": [
    "Use `for` loop to iterate over various thresholds and calculate the accuracy for both train and test."
   ]
  },
  {
   "cell_type": "code",
   "execution_count": 15,
   "metadata": {},
   "outputs": [],
   "source": [
    "metrics_df = pd.DataFrame(columns=['threshold', 'train_acc', 'test_acc'])\n",
    "\n",
    "for x in np.arange(y_train_pred_probs.min(), y_train_pred_probs.max(), 0.01):\n",
    "    placeholder = []\n",
    "    threshold = x\n",
    "    y_pred_train = np.where(y_train_pred_probs > x, 1, 0)\n",
    "    r_pred_test = np.where(y_test_pred_probs > x, 1, 0)\n",
    "    train_acc = accuracy_score(y_train, y_pred_train)\n",
    "    test_acc = accuracy_score(y_test, r_pred_test)\n",
    "    placeholder = [threshold, train_acc, test_acc]\n",
    "    sample_S = pd.Series(placeholder, index=[\n",
    "                         'threshold', 'train_acc', 'test_acc'])\n",
    "    metrics_df = metrics_df.append(sample_S, ignore_index=True)"
   ]
  },
  {
   "cell_type": "markdown",
   "metadata": {},
   "source": [
    "## **Plot** the results"
   ]
  },
  {
   "cell_type": "code",
   "execution_count": 16,
   "metadata": {},
   "outputs": [
    {
     "ename": "AttributeError",
     "evalue": "'Series' object has no attribute 'data'",
     "output_type": "error",
     "traceback": [
      "\u001b[1;31m---------------------------------------------------------------------------\u001b[0m",
      "\u001b[1;31mAttributeError\u001b[0m                            Traceback (most recent call last)",
      "\u001b[1;32m<ipython-input-16-11dc9015bd72>\u001b[0m in \u001b[0;36m<module>\u001b[1;34m\u001b[0m\n\u001b[0;32m     14\u001b[0m \u001b[1;33m\u001b[0m\u001b[0m\n\u001b[0;32m     15\u001b[0m \u001b[1;31m# Get the regular numpy array from the MaskedArray\u001b[0m\u001b[1;33m\u001b[0m\u001b[1;33m\u001b[0m\u001b[1;33m\u001b[0m\u001b[0m\n\u001b[1;32m---> 16\u001b[1;33m \u001b[0mX_axis\u001b[0m \u001b[1;33m=\u001b[0m \u001b[0mnp\u001b[0m\u001b[1;33m.\u001b[0m\u001b[0marray\u001b[0m\u001b[1;33m(\u001b[0m\u001b[0mmetrics_df\u001b[0m\u001b[1;33m[\u001b[0m\u001b[1;34m'threshold'\u001b[0m\u001b[1;33m]\u001b[0m\u001b[1;33m.\u001b[0m\u001b[0mdata\u001b[0m\u001b[1;33m,\u001b[0m \u001b[0mdtype\u001b[0m\u001b[1;33m=\u001b[0m\u001b[0mfloat\u001b[0m\u001b[1;33m)\u001b[0m\u001b[1;33m\u001b[0m\u001b[1;33m\u001b[0m\u001b[0m\n\u001b[0m\u001b[0;32m     17\u001b[0m \u001b[1;33m\u001b[0m\u001b[0m\n\u001b[0;32m     18\u001b[0m ax.plot(X_axis, metrics_df['train_acc'], ls='--',\n",
      "\u001b[1;32mC:\\ProgramData\\Anaconda3\\lib\\site-packages\\pandas\\core\\generic.py\u001b[0m in \u001b[0;36m__getattr__\u001b[1;34m(self, name)\u001b[0m\n\u001b[0;32m   5272\u001b[0m             \u001b[1;32mif\u001b[0m \u001b[0mself\u001b[0m\u001b[1;33m.\u001b[0m\u001b[0m_info_axis\u001b[0m\u001b[1;33m.\u001b[0m\u001b[0m_can_hold_identifiers_and_holds_name\u001b[0m\u001b[1;33m(\u001b[0m\u001b[0mname\u001b[0m\u001b[1;33m)\u001b[0m\u001b[1;33m:\u001b[0m\u001b[1;33m\u001b[0m\u001b[1;33m\u001b[0m\u001b[0m\n\u001b[0;32m   5273\u001b[0m                 \u001b[1;32mreturn\u001b[0m \u001b[0mself\u001b[0m\u001b[1;33m[\u001b[0m\u001b[0mname\u001b[0m\u001b[1;33m]\u001b[0m\u001b[1;33m\u001b[0m\u001b[1;33m\u001b[0m\u001b[0m\n\u001b[1;32m-> 5274\u001b[1;33m             \u001b[1;32mreturn\u001b[0m \u001b[0mobject\u001b[0m\u001b[1;33m.\u001b[0m\u001b[0m__getattribute__\u001b[0m\u001b[1;33m(\u001b[0m\u001b[0mself\u001b[0m\u001b[1;33m,\u001b[0m \u001b[0mname\u001b[0m\u001b[1;33m)\u001b[0m\u001b[1;33m\u001b[0m\u001b[1;33m\u001b[0m\u001b[0m\n\u001b[0m\u001b[0;32m   5275\u001b[0m \u001b[1;33m\u001b[0m\u001b[0m\n\u001b[0;32m   5276\u001b[0m     \u001b[1;32mdef\u001b[0m \u001b[0m__setattr__\u001b[0m\u001b[1;33m(\u001b[0m\u001b[0mself\u001b[0m\u001b[1;33m,\u001b[0m \u001b[0mname\u001b[0m\u001b[1;33m:\u001b[0m \u001b[0mstr\u001b[0m\u001b[1;33m,\u001b[0m \u001b[0mvalue\u001b[0m\u001b[1;33m)\u001b[0m \u001b[1;33m->\u001b[0m \u001b[1;32mNone\u001b[0m\u001b[1;33m:\u001b[0m\u001b[1;33m\u001b[0m\u001b[1;33m\u001b[0m\u001b[0m\n",
      "\u001b[1;31mAttributeError\u001b[0m: 'Series' object has no attribute 'data'"
     ]
    },
    {
     "data": {
      "image/png": "[encoded data removed]",
      "text/plain": [
       "<Figure size 936x936 with 1 Axes>"
      ]
     },
     "metadata": {
      "needs_background": "light"
     },
     "output_type": "display_data"
    }
   ],
   "source": [
    "plt.figure(figsize=(13, 13))\n",
    "plt.title(\"Search for Best Threshold using Accuracy\",\n",
    "          fontsize=16)\n",
    "\n",
    "plt.xlabel(\"Threshold\")\n",
    "plt.ylabel(\"Score\")\n",
    "plt.grid(True)\n",
    "\n",
    "ax = plt.gca()\n",
    "ax.set_xlim(y_train_pred_probs.min(), y_train_pred_probs.max())\n",
    "ax.set_ylim(0, 1)\n",
    "ax.xaxis.set_major_locator(MaxNLocator(20))\n",
    "ax.yaxis.set_major_locator(MaxNLocator(20))\n",
    "\n",
    "# Get the regular numpy array from the MaskedArray\n",
    "X_axis = np.array(metrics_df['threshold'].data, dtype=float)\n",
    "\n",
    "ax.plot(X_axis, metrics_df['train_acc'], ls='--',\n",
    "        color='g', label='Train Accuracy')\n",
    "ax.plot(X_axis, metrics_df['test_acc'], ls='-',\n",
    "        color='g', label='Test Accuracy')\n",
    "\n",
    "plt.legend()"
   ]
  },
  {
   "cell_type": "markdown",
   "metadata": {},
   "source": [
    "## Question:\n",
    "\n",
    "- Is `.5` the best cutoff?\n",
    "- What is the best choice?\n",
    "- Why?"
   ]
  },
  {
   "cell_type": "markdown",
   "metadata": {},
   "source": [
    "-----\n",
    "\n",
    "## **Advanced** Questions (Optional):\n",
    "\n",
    "- While you're able to predict high yield, are you able to produce a reduced process/materials list?\n",
    "- How would you adjust the `LogisticRegression` arguments to produce a reduced list?\n",
    "- Is the model \"done\"? How would you check to see if multi-collinearity is an issue?"
   ]
  },
  {
   "cell_type": "code",
   "execution_count": null,
   "metadata": {},
   "outputs": [],
   "source": [
    "# Check Coefficients\n",
    "coef_dict = {}\n",
    "for coef, feat in zip(list(lgrg1.coef_[0]),X_train.columns.tolist()):\n",
    "    coef_dict[feat] = coef\n",
    "    \n",
    "# Convert to dataframe so you can sort it\n",
    "coef_df = pd.DataFrame.from_dict(coef_dict, columns =['Coef'], orient='index')\n",
    "coef_df.sort_values(by=['Coef'], ascending = False)"
   ]
  },
  {
   "cell_type": "markdown",
   "metadata": {},
   "source": [
    "#### Set `C` to 0.02 to increase the penalty and perhaps decrease the variable set"
   ]
  },
  {
   "cell_type": "code",
   "execution_count": null,
   "metadata": {},
   "outputs": [],
   "source": [
    "lgrg2 = LogisticRegression(C=.02, random_state = 100)\n",
    "lgrg2.fit(X_train_prepped, y_train)\n",
    "y_train_pred_probs = lgrg2.predict_proba(X_train_prepped)[:, 1]\n",
    "y_test_pred_probs = lgrg2.predict_proba(X_test_transformed)[:, 1]"
   ]
  },
  {
   "cell_type": "markdown",
   "metadata": {},
   "source": [
    "#### Check - Did this change the thresholds?"
   ]
  },
  {
   "cell_type": "code",
   "execution_count": null,
   "metadata": {},
   "outputs": [],
   "source": [
    "metrics_df = pd.DataFrame(columns = ['threshold','train_acc', 'test_acc'])\n",
    "\n",
    "for x in np.arange(y_train_pred_probs.min(),y_train_pred_probs.max(), 0.01):\n",
    "    placeholder =[]\n",
    "    threshold = x\n",
    "    y_pred_train = np.where(y_train_pred_probs>x,1,0)\n",
    "    r_pred_test = np.where(y_test_pred_probs>x, 1, 0)\n",
    "    train_acc = accuracy_score(y_train,y_pred_train)\n",
    "    test_acc = accuracy_score(y_test,r_pred_test)\n",
    "    placeholder = [threshold,train_acc, test_acc]\n",
    "    sample_S = pd.Series(placeholder,index = ['threshold','train_acc', 'test_acc'] )\n",
    "    metrics_df = metrics_df.append(sample_S, ignore_index = True)"
   ]
  },
  {
   "cell_type": "code",
   "execution_count": null,
   "metadata": {},
   "outputs": [],
   "source": [
    "plt.figure(figsize=(13, 13))\n",
    "plt.title(\"Search for Best Threshold When LASSO Penalty = 0.02\",\n",
    "          fontsize=16)\n",
    "\n",
    "plt.xlabel(\"Threshold\")\n",
    "plt.ylabel(\"Score\")\n",
    "plt.grid(True)\n",
    "\n",
    "ax = plt.gca()\n",
    "ax.set_xlim(y_train_pred_probs.min(), y_train_pred_probs.max())\n",
    "ax.set_ylim(0, 1)\n",
    "ax.xaxis.set_major_locator(MaxNLocator(20))\n",
    "ax.yaxis.set_major_locator(MaxNLocator(20))\n",
    "\n",
    "# Get the regular numpy array from the MaskedArray\n",
    "X_axis = np.array(metrics_df['threshold'].data, dtype=float)\n",
    "\n",
    "ax.plot(X_axis, metrics_df['train_acc'], ls='--', color='g', label='Train Accuracy')\n",
    "ax.plot(X_axis, metrics_df['test_acc'], ls='-', color='g', label='Test Accuracy')\n",
    "\n",
    "plt.legend()"
   ]
  },
  {
   "cell_type": "markdown",
   "metadata": {},
   "source": [
    "### How did it change the coefficients?\n",
    "\n",
    "Did any of them move closer to zero so you can give a reduced list of variables to managment?"
   ]
  },
  {
   "cell_type": "code",
   "execution_count": null,
   "metadata": {},
   "outputs": [],
   "source": [
    "# Check Coefficients\n",
    "coef_dict = {}\n",
    "for coef, feat in zip(list(lgrg2.coef_[0]),X_train.columns.tolist()):\n",
    "    coef_dict[feat] = coef\n",
    "    \n",
    "# Convert to dataframe so you can sort it\n",
    "coef_df2 = pd.DataFrame.from_dict(coef_dict, columns =['Coef2'], orient='index')\n",
    "coef_df2.sort_values(by=['Coef2'], ascending = False)\n",
    "\n",
    "coef_df.merge(coef_df2,left_index=True, right_index = True)"
   ]
  },
  {
   "cell_type": "code",
   "execution_count": null,
   "metadata": {},
   "outputs": [],
   "source": [
    "coef_df.merge(coef_df2,left_index=True, right_index = True)"
   ]
  },
  {
   "cell_type": "markdown",
   "metadata": {},
   "source": [
    "#### Check for multi-collinearity\n",
    "(do not need to solve it now, only checking)"
   ]
  },
  {
   "cell_type": "code",
   "execution_count": null,
   "metadata": {},
   "outputs": [],
   "source": [
    "df_corr = X_train.corr().stack().reset_index()\n",
    "\n",
    "# rename the columns\n",
    "df_corr.columns = ['FEATURE_1', 'FEATURE_2', 'CORRELATION']\n",
    "\n",
    "# create a mask to identify rows with duplicate features as mentioned above\n",
    "mask_dups = (df_corr[['FEATURE_1', 'FEATURE_2']].apply(frozenset, axis=1).duplicated()) | (df_corr['FEATURE_1']==df_corr['FEATURE_2']) \n",
    "\n",
    "# apply the mask to clean the correlation dataframe\n",
    "df_corr = df_corr[~mask_dups]\n",
    "df_corr[abs(df_corr['CORRELATION'])>.8]"
   ]
  },
  {
   "cell_type": "code",
   "execution_count": null,
   "metadata": {},
   "outputs": [],
   "source": []
  }
 ],
 "metadata": {
  "kernelspec": {
   "display_name": "Python 3",
   "language": "python",
   "name": "python3"
  },
  "language_info": {
   "codemirror_mode": {
    "name": "ipython",
    "version": 3
   },
   "file_extension": ".py",
   "mimetype": "text/x-python",
   "name": "python",
   "nbconvert_exporter": "python",
   "pygments_lexer": "ipython3",
   "version": "3.7.6"
  }
 },
 "nbformat": 4,
 "nbformat_minor": 4
}
