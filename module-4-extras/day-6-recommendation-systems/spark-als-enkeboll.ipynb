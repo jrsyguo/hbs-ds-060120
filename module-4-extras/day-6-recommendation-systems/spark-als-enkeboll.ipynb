{
  "nbformat": 4,
  "nbformat_minor": 0,
  "metadata": {
    "colab": {
      "name": "spark-als-enkeboll.ipynb",
      "provenance": [],
      "collapsed_sections": [
        "9QFXaP-Aurkz",
        "n6zPsSNuurk1",
        "6djUpw42urk3",
        "GbcP62fLurk3"
      ],
      "toc_visible": true
    },
    "kernelspec": {
      "display_name": "Python 3",
      "language": "python",
      "name": "python3"
    },
    "language_info": {
      "codemirror_mode": {
        "name": "ipython",
        "version": 3
      },
      "file_extension": ".py",
      "mimetype": "text/x-python",
      "name": "python",
      "nbconvert_exporter": "python",
      "pygments_lexer": "ipython3",
      "version": "3.7.4"
    },
    "toc": {
      "base_numbering": 1,
      "nav_menu": {},
      "number_sections": true,
      "sideBar": true,
      "skip_h1_title": false,
      "title_cell": "Table of Contents",
      "title_sidebar": "Contents",
      "toc_cell": false,
      "toc_position": {},
      "toc_section_display": true,
      "toc_window_display": false
    }
  },
  "cells": [
    {
      "cell_type": "code",
      "metadata": {
        "colab_type": "code",
        "id": "8ykYocbcu5Me",
        "colab": {}
      },
      "source": [
        "!apt-get install openjdk-8-jdk-headless -qq > /dev/null"
      ],
      "execution_count": 1,
      "outputs": []
    },
    {
      "cell_type": "code",
      "metadata": {
        "colab_type": "code",
        "id": "mxVxnZ7VvLMM",
        "colab": {}
      },
      "source": [
        "!wget -q https://archive.apache.org/dist/spark/spark-2.4.1/spark-2.4.1-bin-hadoop2.7.tgz"
      ],
      "execution_count": 2,
      "outputs": []
    },
    {
      "cell_type": "code",
      "metadata": {
        "colab_type": "code",
        "id": "MzxRWhiovNDr",
        "colab": {}
      },
      "source": [
        "!tar xf spark-2.4.1-bin-hadoop2.7.tgz\n",
        "!pip install -q findspark"
      ],
      "execution_count": 3,
      "outputs": []
    },
    {
      "cell_type": "code",
      "metadata": {
        "colab_type": "code",
        "id": "sy3kPAfPu6oK",
        "colab": {}
      },
      "source": [
        "import os\n",
        "os.environ[\"JAVA_HOME\"] = \"/usr/lib/jvm/java-8-openjdk-amd64\"\n",
        "os.environ[\"SPARK_HOME\"] = \"/content/spark-2.4.1-bin-hadoop2.7\""
      ],
      "execution_count": 4,
      "outputs": []
    },
    {
      "cell_type": "code",
      "metadata": {
        "colab_type": "code",
        "id": "_WDU8Y_5u8bj",
        "colab": {}
      },
      "source": [
        "import findspark\n",
        "findspark.init()\n",
        "from pyspark.sql import SparkSession\n",
        "spark = SparkSession.builder.master(\"local[*]\").getOrCreate()"
      ],
      "execution_count": 5,
      "outputs": []
    },
    {
      "cell_type": "code",
      "metadata": {
        "colab_type": "code",
        "id": "Z5jzktJswTdK",
        "colab": {
          "base_uri": "https://localhost:8080/",
          "height": 85
        },
        "outputId": "2280320f-93e9-4b2c-91e0-8d08b2adee41"
      },
      "source": [
        "!unzip /content/data.zip"
      ],
      "execution_count": 6,
      "outputs": [
        {
          "output_type": "stream",
          "text": [
            "Archive:  /content/data.zip\n",
            "   creating: data/\n",
            "  inflating: data/ratings.csv        \n",
            "  inflating: data/movies.csv         \n"
          ],
          "name": "stdout"
        }
      ]
    },
    {
      "cell_type": "code",
      "metadata": {
        "id": "D1Ld8enq9p_e",
        "colab_type": "code",
        "colab": {}
      },
      "source": [
        ""
      ],
      "execution_count": null,
      "outputs": []
    },
    {
      "cell_type": "code",
      "metadata": {
        "id": "cpxrpE9s9p4N",
        "colab_type": "code",
        "colab": {}
      },
      "source": [
        ""
      ],
      "execution_count": null,
      "outputs": []
    },
    {
      "cell_type": "markdown",
      "metadata": {
        "colab_type": "text",
        "id": "fKfXbf2Ourkm"
      },
      "source": [
        "# Building a Movie Recommendation System in PySpark - Lab Code-along\n",
        "![images of vhs tapes on shelf](img/movies.jpg)"
      ]
    },
    {
      "cell_type": "markdown",
      "metadata": {
        "colab_type": "text",
        "id": "nydJ-BIhurkn"
      },
      "source": [
        "## Introduction\n",
        "\n",
        "In this last lab, we will implement a a movie recommendation system using Alternating Least Squares (ALS) in Spark programming environment.<br> Spark's machine learning libraray `ml` comes packaged with a very efficient imeplementation of ALS algorithm. \n",
        "\n",
        "The lab will require you to put into pratice your spark programming skills for creating and manipulating pyspark DataFrames. We will go through a step-by-step process into developing a movie recommendation system using ALS and pyspark using the MovieLens Dataset.\n",
        "\n",
        "Note: You are advised to refer to [PySpark Documentation](http://spark.apache.org/docs/2.2.0/api/python/index.html) heavily for completing this lab as it will introduce a few new methods. "
      ]
    },
    {
      "cell_type": "markdown",
      "metadata": {
        "colab_type": "text",
        "id": "6zew458Xurkn"
      },
      "source": [
        "## Objectives\n",
        "\n",
        "You will be able to:\n",
        "\n",
        "* Identify the key components of the ALS \n",
        "* Demonstrate an understanding on how recommendation systems are being used for personalization of online services/products\n",
        "* Parse and filter datasets into Spark DataFrame, performing basic feature selection\n",
        "* Run a brief hyper-parameter selection activity through a scalable grid search\n",
        "* Train and evaluate the predictive performance of recommendation system\n",
        "* Generate predictions from the trained model"
      ]
    },
    {
      "cell_type": "markdown",
      "metadata": {
        "colab_type": "text",
        "id": "OaxKhsoNurko"
      },
      "source": [
        "## Building a Recommendation System\n",
        "\n",
        "We have seen how recommender/Recommendation Systems have played an  integral parts in the success of Amazon (Books, Items), Pandora/Spotify (Music), Google (News, Search), YouTube (Videos) etc.  For Amazon these systems bring more than 30% of their total revenues. For Netflix service, 75% of movies that people watch are based on some sort of recommendation.\n",
        "\n",
        "> The goal of Recommendation Systems is to find what is likely to be of interest to the user. This enables organizations to offer a high level of personalization and customer tailored services."
      ]
    },
    {
      "cell_type": "markdown",
      "metadata": {
        "colab_type": "text",
        "id": "2On6400xurko"
      },
      "source": [
        "### We sort of get the concept\n",
        "\n",
        "For online video content services like Netflix and Hulu, the need to build robust movie recommendation systems is extremely important. An example of recommendation system is such as this:\n",
        "\n",
        "1.    User A watches Game of Thrones and Breaking Bad.\n",
        "2.    User B performs a search query for Game of Thrones.\n",
        "3.    The system suggests Breaking Bad to user B from data collected about user A.\n",
        "\n",
        "\n",
        "This lab will guide you through a step-by-step process into developing such a movie recommendation system. We will use the MovieLens dataset to build a movie recommendation system using the collaborative filtering technique with Spark's Alternating Least Saqures implementation. After building that recommendation system, we will go through the process of adding a new user to the dataset with some new ratings and obtaining new recommendations for that user."
      ]
    },
    {
      "cell_type": "markdown",
      "metadata": {
        "colab_type": "text",
        "id": "7QYIkXHzurko"
      },
      "source": [
        "## Will Nightengale like Toy Story?\n",
        "\n",
        "Collaborative filtering and matrix decomposition allows us to use the history of others ratings, along with the entire community of ratings, to answer that question.\n",
        "\n",
        "![image1](img/collab.png)\n"
      ]
    },
    {
      "cell_type": "markdown",
      "metadata": {
        "colab_type": "text",
        "id": "NXsCauSUurkp"
      },
      "source": [
        "## Person vs vegetable\n",
        "\n",
        "It's important to realize that there are two sides to recommendation\n",
        "\n",
        "![image2](img/item_user_based.png)"
      ]
    },
    {
      "cell_type": "markdown",
      "metadata": {
        "colab_type": "text",
        "id": "kF-i_rK4urkp"
      },
      "source": [
        "## Code for model\n",
        "\n",
        "If we wanted, we could jump to the code right now to make this happen."
      ]
    },
    {
      "cell_type": "markdown",
      "metadata": {
        "colab_type": "text",
        "id": "lNvpEZbburkq"
      },
      "source": [
        "But would we understand it?\n",
        "```python\n",
        "from pyspark.ml.recommendation import ALS\n",
        "\n",
        "als = ALS(\n",
        "    rank=10,\n",
        "    maxIter=10,\n",
        "    userCol='userId',\n",
        "    itemCol='movieId',\n",
        "    ratingCol='rating',\n",
        ")\n",
        "\n",
        "als_model = als.fit(movie_ratings)\n",
        "```"
      ]
    },
    {
      "cell_type": "markdown",
      "metadata": {
        "colab_type": "text",
        "id": "1Rgm1rC_urkq"
      },
      "source": [
        "## Documentation Station\n",
        "\n",
        "Let's explore the [documentation](http://spark.apache.org/docs/2.4.3/api/python/pyspark.ml.html#module-pyspark.ml.recommendation) together to maybe get a better idea of what is happening. \n",
        "\n",
        "- which parameters make sense?\n",
        "- which are completely foreign?"
      ]
    },
    {
      "cell_type": "markdown",
      "metadata": {
        "colab_type": "text",
        "id": "fCcLhFVdurkq"
      },
      "source": [
        "## Rank\n",
        "\n",
        "What's all this rank of the factorization business?<br>\n",
        "[the source code documentation](https://github.com/apache/spark/blob/master/mllib/src/main/scala/org/apache/spark/mllib/recommendation/ALS.scala) describes that variable as the \"Rank of the feature matrices\""
      ]
    },
    {
      "cell_type": "markdown",
      "metadata": {
        "colab_type": "text",
        "id": "XSkeeW4yurkr"
      },
      "source": [
        "## Assumptions\n",
        "\n",
        "Matrix decomposition is built on the theory that every individual (user, movie) score is actually the **dot product** of two separate vectors:\n",
        "- user characteristics \n",
        "- movie characteristics"
      ]
    },
    {
      "cell_type": "markdown",
      "metadata": {
        "colab_type": "text",
        "id": "N69jgwG2urks"
      },
      "source": [
        "Wait, do you mean like gender, whether the movie is sci-fi or action? do we have that data?"
      ]
    },
    {
      "cell_type": "markdown",
      "metadata": {
        "colab_type": "text",
        "id": "IhoGfIgvurks"
      },
      "source": [
        "![beyonce-gif](img/beyonce.gif)"
      ]
    },
    {
      "cell_type": "markdown",
      "metadata": {
        "colab_type": "text",
        "id": "AQQ_Oblourkt"
      },
      "source": [
        "## The hidden matricies \n",
        "![image4](img/matrix_decomp.png)"
      ]
    },
    {
      "cell_type": "markdown",
      "metadata": {
        "colab_type": "text",
        "id": "ZGgXx48Aurkt"
      },
      "source": [
        "## Embeddings\n",
        "\n",
        "Embeddings are low dimensional hidden factors for items and users.\n",
        "\n",
        "For e.g. say we have 5 dimensional (i.e., **rank** = 5) embeddings for both items and users (5 chosen randomly, this could be any number - as we saw with PCA and dim. reduction).\n",
        "\n",
        "For user-X & movie-A, we can say those 5 numbers might represent 5 different characteristics about the movie e.g.:\n",
        "\n",
        "- How much movie-A is political\n",
        "- How recent is the movie\n",
        "- How much special effects are in movie A\n",
        "- How dialogue driven is the movie\n",
        "- How linear is the narrative in the movie\n",
        "\n",
        "In a similar way, 5 numbers in the user embedding matrix might represent:\n",
        "\n",
        "- How much does user-X like sci-fi movies\n",
        "- How much does user-X like recent movies … and so on.\n",
        "\n",
        "But we have *no actual idea* what those factors actually represent."
      ]
    },
    {
      "cell_type": "markdown",
      "metadata": {
        "colab_type": "text",
        "id": "mpedppX9urkt"
      },
      "source": [
        "### If we knew the feature embeddings in advance, it would look something like this:"
      ]
    },
    {
      "cell_type": "code",
      "metadata": {
        "colab_type": "code",
        "id": "2FnpDao6urku",
        "colab": {}
      },
      "source": [
        "import numpy as np\n",
        "\n",
        "# the original matrix of rankings\n",
        "R = np.array([[2, np.nan, np.nan, 1, 4],\n",
        "              [5, 1, 2, np.nan, 2],\n",
        "              [3, np.nan, np.nan, 3, np.nan],\n",
        "              [1, np.nan, 4, 2, 1]])\n",
        "\n",
        "# users X factors\n",
        "P = np.array([[-0.63274434,  1.33686735, -1.55128517],\n",
        "              [-2.23813661,  0.5123861,  0.14087293],\n",
        "              [-1.0289794,  1.62052691,  0.21027516],\n",
        "              [-0.06422255,  1.62892864,  0.33350709]])\n",
        "\n",
        "# factors X items\n",
        "Q = np.array([[-2.09507374,  0.52351075,  0.01826269],\n",
        "              [-0.45078775, -0.07334991,  0.18731052],\n",
        "              [-0.34161766,  2.46215058, -0.18942263],\n",
        "              [-1.0925736,  1.04664756,  0.69963111],\n",
        "              [-0.78152923,  0.89189076, -1.47144019]])"
      ],
      "execution_count": 57,
      "outputs": []
    },
    {
      "cell_type": "markdown",
      "metadata": {
        "colab_type": "text",
        "id": "XT47eqfCurkw"
      },
      "source": [
        "What about that `np.nan` in the third row, last column? How will that item be reviewed by that user?"
      ]
    },
    {
      "cell_type": "code",
      "metadata": {
        "colab_type": "code",
        "id": "JYngWDlwurkx",
        "colab": {
          "base_uri": "https://localhost:8080/",
          "height": 34
        },
        "outputId": "e88b24c5-4616-4d97-e2ca-e77e75ad69c5"
      },
      "source": [
        "P[2].dot(Q.T[:,4])"
      ],
      "execution_count": 59,
      "outputs": [
        {
          "output_type": "execute_result",
          "data": {
            "text/plain": [
              "1.9401031341455333"
            ]
          },
          "metadata": {
            "tags": []
          },
          "execution_count": 59
        }
      ]
    },
    {
      "cell_type": "markdown",
      "metadata": {
        "colab_type": "text",
        "id": "9fZB3n7curkz"
      },
      "source": [
        "## Wait, I saw a transpose in there - what's the actual formula?\n",
        "\n",
        "Terms:<br>\n",
        "$R$ is the full user-item rating matrix\n",
        "\n",
        "$P$ is a matrix that contains the users and the k factors represented as (user,factor)\n",
        "\n",
        "$Q^T$ is a matrix that contains the items and the k factors represented as\n",
        "\n",
        "$r̂_{u,i}$ represents our prediction for the true rating $r_{ui}$ In order to get an individual rating, you must take the dot product of a row of P and a column of Q\n",
        "\n",
        "for the entire matrix:\n",
        "$$ R = PQ^T $$ \n",
        "\n",
        "or for individual ratings\n",
        "\n",
        "$$r̂_{u,i}=q_i^⊤p_u $$ \n",
        "\n",
        "\n",
        "\n"
      ]
    },
    {
      "cell_type": "markdown",
      "metadata": {
        "colab_type": "text",
        "id": "9QFXaP-Aurkz"
      },
      "source": [
        "### Let's get the whole matrix!"
      ]
    },
    {
      "cell_type": "code",
      "metadata": {
        "colab_type": "code",
        "id": "ly29_Afuurkz",
        "colab": {}
      },
      "source": [
        "P.dot(Q.T)"
      ],
      "execution_count": null,
      "outputs": []
    },
    {
      "cell_type": "markdown",
      "metadata": {
        "colab_type": "text",
        "id": "n6zPsSNuurk1"
      },
      "source": [
        "### Look at those results\n",
        "\n",
        "Are they _exactly_ correct?\n",
        "![check](img/check.gif)"
      ]
    },
    {
      "cell_type": "markdown",
      "metadata": {
        "colab_type": "text",
        "id": "xqwBoCC6urk2"
      },
      "source": [
        "## ALS benefit: Loss Function\n",
        "\n",
        "The Loss function $L$ can be calculated as:\n",
        "\n",
        "$$ L = \\sum_{u,i ∈ \\kappa}(r_{u,i}− q_i^T p_u)^2 + λ( ||q_i||^2 + |p_u||^2)$$\n",
        "\n",
        "Where $\\kappa$ is the set of (u,i) pairs for which $r_{u,i}$ is known.\n",
        "\n",
        "To avoid overfitting, the loss function also includes a regularization parameter $\\lambda$. We will choose a $\\lambda$ to minimize the square of the difference between all ratings in our dataset $R$ and our predictions.\n",
        "\n",
        "There's the **least squares** part of ALS, got it!"
      ]
    },
    {
      "cell_type": "markdown",
      "metadata": {
        "colab_type": "text",
        "id": "roK9YBGOurk2"
      },
      "source": [
        "## So now we use gradient descent, right?"
      ]
    },
    {
      "cell_type": "markdown",
      "metadata": {
        "colab_type": "text",
        "id": "wVInIntcurk3"
      },
      "source": [
        "![incorrect](img/incorrect.gif)"
      ]
    },
    {
      "cell_type": "markdown",
      "metadata": {
        "colab_type": "text",
        "id": "6djUpw42urk3"
      },
      "source": [
        "### Here comes the alternating part\n",
        "\n",
        "ALS alternates between holding the $q_i$'s constant and the $p_u$'s constant. \n",
        "\n",
        "While all $q_i$'s are held constant, each $p_u$ is computed by solving the least squared problem.<br>\n",
        "After that process has taken place, all the $p_u$'s are held constant while the $q_i$'s are altered to solve the least squares problem, again, each independently.<br> \n",
        "This process repeats many times until you've reached convergence (ideally)."
      ]
    },
    {
      "cell_type": "markdown",
      "metadata": {
        "colab_type": "text",
        "id": "GbcP62fLurk3"
      },
      "source": [
        "### Changing Loss function:\n",
        "\n",
        "First let's assume first the item vectors are fixed, we first solve for the user vectors:\n",
        "\n",
        "$$p_u=(\\sum{r{u,i}\\in r_{u*}}{q_iq_i^T + \\lambda I_k})^{-1}\\sum_{r_{u,i}\\in r_{u*}}{r_{ui}{q_{i}}}$$__\n",
        "Then we hold the user vectors constant and solve for the item vectors\n",
        "\n",
        "$$q_i=(\\sum{r{u,i}\\in r_{i*}}{p_up_u^T + \\lambda I_k})^{-1}\\sum_{r_{u,i}\\in r_{u*}}{r_{ui}{p_{u}}}$$__\n",
        "This process repeats until convergence"
      ]
    },
    {
      "cell_type": "markdown",
      "metadata": {
        "colab_type": "text",
        "id": "-wPBb4mTurk4"
      },
      "source": [
        "# Review\n",
        "What levers do we have available to adjust?\n",
        "![lever-choice](img/levers.jpeg)\n",
        "\n",
        "- Pros and cons of large rank?\n",
        "- Pros and cons of lambda size?\n",
        "- Iterations?"
      ]
    },
    {
      "cell_type": "markdown",
      "metadata": {
        "colab_type": "text",
        "id": "boXbN694urk4"
      },
      "source": [
        "# Enough - let's get to the data"
      ]
    },
    {
      "cell_type": "markdown",
      "metadata": {
        "colab_type": "text",
        "id": "XbvLeuG2urk5"
      },
      "source": [
        "### Importing the Data\n",
        "To begin with:\n",
        "* initialize a SparkSession object\n",
        "* import the dataset found at './data/ratings.csv' into a pyspark DataFrame"
      ]
    },
    {
      "cell_type": "code",
      "metadata": {
        "colab_type": "code",
        "id": "uOMiDuBhurk5",
        "colab": {}
      },
      "source": [
        "import pyspark\n",
        "\n",
        "spark = pyspark.sql.SparkSession.builder.getOrCreate()\n",
        "sc = spark.sparkContext"
      ],
      "execution_count": 7,
      "outputs": []
    },
    {
      "cell_type": "code",
      "metadata": {
        "colab_type": "code",
        "id": "MuwDgy2rurk7",
        "colab": {
          "base_uri": "https://localhost:8080/",
          "height": 34
        },
        "outputId": "79b63296-b87b-40dd-d5f3-6689fccecfbb"
      },
      "source": [
        "!ls data/"
      ],
      "execution_count": 8,
      "outputs": [
        {
          "output_type": "stream",
          "text": [
            "movies.csv  ratings.csv\n"
          ],
          "name": "stdout"
        }
      ]
    },
    {
      "cell_type": "code",
      "metadata": {
        "colab_type": "code",
        "id": "xisAKasGurk-",
        "colab": {
          "base_uri": "https://localhost:8080/",
          "height": 187
        },
        "outputId": "c6c8de94-f7c2-4620-b87b-f636a47247ea"
      },
      "source": [
        "!head data/ratings.csv"
      ],
      "execution_count": 9,
      "outputs": [
        {
          "output_type": "stream",
          "text": [
            "userId,movieId,rating,timestamp\r\n",
            "1,1,4.0,964982703\r\n",
            "1,3,4.0,964981247\r\n",
            "1,6,4.0,964982224\r\n",
            "1,47,5.0,964983815\r\n",
            "1,50,5.0,964982931\r\n",
            "1,70,3.0,964982400\r\n",
            "1,101,5.0,964980868\r\n",
            "1,110,4.0,964982176\r\n",
            "1,151,5.0,964984041\r\n"
          ],
          "name": "stdout"
        }
      ]
    },
    {
      "cell_type": "code",
      "metadata": {
        "colab_type": "code",
        "id": "w9rGcB6eurlB",
        "colab": {}
      },
      "source": [
        "# read in the dataset into pyspark DataFrame\n",
        "movie_ratings = spark.read.csv('data/ratings.csv',\n",
        "                               inferSchema=True,\n",
        "                               header=True)"
      ],
      "execution_count": 10,
      "outputs": []
    },
    {
      "cell_type": "markdown",
      "metadata": {
        "colab_type": "text",
        "id": "joeAGI1DurlD"
      },
      "source": [
        "Check the data types of each of the values to ensure that they are a type that makes sense given the column."
      ]
    },
    {
      "cell_type": "code",
      "metadata": {
        "colab_type": "code",
        "id": "UayzI9DwurlD",
        "colab": {
          "base_uri": "https://localhost:8080/",
          "height": 119
        },
        "outputId": "a9886dcb-e271-471d-8289-e0713bf7d4c7"
      },
      "source": [
        "movie_ratings.printSchema()"
      ],
      "execution_count": 11,
      "outputs": [
        {
          "output_type": "stream",
          "text": [
            "root\n",
            " |-- userId: integer (nullable = true)\n",
            " |-- movieId: integer (nullable = true)\n",
            " |-- rating: double (nullable = true)\n",
            " |-- timestamp: integer (nullable = true)\n",
            "\n"
          ],
          "name": "stdout"
        }
      ]
    },
    {
      "cell_type": "code",
      "metadata": {
        "id": "qLagyKKI_SyP",
        "colab_type": "code",
        "colab": {
          "base_uri": "https://localhost:8080/",
          "height": 102
        },
        "outputId": "d9662fc8-8928-4865-a6e9-5c0f0a98b4b2"
      },
      "source": [
        "movie_ratings.head(5)"
      ],
      "execution_count": 14,
      "outputs": [
        {
          "output_type": "execute_result",
          "data": {
            "text/plain": [
              "[Row(userId=1, movieId=1, rating=4.0, timestamp=964982703),\n",
              " Row(userId=1, movieId=3, rating=4.0, timestamp=964981247),\n",
              " Row(userId=1, movieId=6, rating=4.0, timestamp=964982224),\n",
              " Row(userId=1, movieId=47, rating=5.0, timestamp=964983815),\n",
              " Row(userId=1, movieId=50, rating=5.0, timestamp=964982931)]"
            ]
          },
          "metadata": {
            "tags": []
          },
          "execution_count": 14
        }
      ]
    },
    {
      "cell_type": "code",
      "metadata": {
        "colab_type": "code",
        "id": "LO1zDU46urlQ",
        "colab": {
          "base_uri": "https://localhost:8080/",
          "height": 204
        },
        "outputId": "0f0f4118-8fa2-4843-ae2a-be10859bcd3d"
      },
      "source": [
        "movie_ratings.show(5)"
      ],
      "execution_count": 12,
      "outputs": [
        {
          "output_type": "stream",
          "text": [
            "+------+-------+------+---------+\n",
            "|userId|movieId|rating|timestamp|\n",
            "+------+-------+------+---------+\n",
            "|     1|      1|   4.0|964982703|\n",
            "|     1|      3|   4.0|964981247|\n",
            "|     1|      6|   4.0|964982224|\n",
            "|     1|     47|   5.0|964983815|\n",
            "|     1|     50|   5.0|964982931|\n",
            "+------+-------+------+---------+\n",
            "only showing top 5 rows\n",
            "\n"
          ],
          "name": "stdout"
        }
      ]
    },
    {
      "cell_type": "markdown",
      "metadata": {
        "colab_type": "text",
        "id": "XEWZD531urlS"
      },
      "source": [
        "We aren't going to need the time stamp, so we can go ahead and remove that column."
      ]
    },
    {
      "cell_type": "code",
      "metadata": {
        "colab_type": "code",
        "id": "9tBuEVl4urlS",
        "colab": {}
      },
      "source": [
        "movie_ratings = movie_ratings.drop('timestamp')"
      ],
      "execution_count": 15,
      "outputs": []
    },
    {
      "cell_type": "code",
      "metadata": {
        "id": "OEkYObTy_kC5",
        "colab_type": "code",
        "colab": {
          "base_uri": "https://localhost:8080/",
          "height": 204
        },
        "outputId": "d5c8e2f3-b362-46cc-ab8b-2eff12b02e1f"
      },
      "source": [
        "movie_ratings.show(5)"
      ],
      "execution_count": 16,
      "outputs": [
        {
          "output_type": "stream",
          "text": [
            "+------+-------+------+\n",
            "|userId|movieId|rating|\n",
            "+------+-------+------+\n",
            "|     1|      1|   4.0|\n",
            "|     1|      3|   4.0|\n",
            "|     1|      6|   4.0|\n",
            "|     1|     47|   5.0|\n",
            "|     1|     50|   5.0|\n",
            "+------+-------+------+\n",
            "only showing top 5 rows\n",
            "\n"
          ],
          "name": "stdout"
        }
      ]
    },
    {
      "cell_type": "markdown",
      "metadata": {
        "colab_type": "text",
        "id": "I10eye8iurlU"
      },
      "source": [
        "### Fitting the Alternating Least Squares Model"
      ]
    },
    {
      "cell_type": "markdown",
      "metadata": {
        "colab_type": "text",
        "id": "HenOR9uWurlU"
      },
      "source": [
        "Because this dataset is already preprocessed for us, we can go ahead and fit the Alternating Least Squares model.\n",
        "\n",
        "* Use the randomSplit method on the pyspark DataFrame to separate the dataset into a training and test set\n",
        "* Import the ALS module from pyspark.ml.recommendation.\n",
        "* Fit the Alternating Least Squares Model to the training dataset. Make sure to set the userCol, itemCol, and ratingCol to the appropriate names given this dataset. Then fit the data to the training set and assign it to a variable model. "
      ]
    },
    {
      "cell_type": "code",
      "metadata": {
        "colab_type": "code",
        "id": "hNApPokqurlU",
        "colab": {}
      },
      "source": [
        "# split into training and testing sets\n",
        "\n",
        "mr_train, mr_test = movie_ratings.randomSplit([0.8, 0.2])"
      ],
      "execution_count": 19,
      "outputs": []
    },
    {
      "cell_type": "code",
      "metadata": {
        "colab_type": "code",
        "id": "lze-bPufurlW",
        "colab": {}
      },
      "source": [
        "from pyspark.ml.evaluation import RegressionEvaluator\n",
        "from pyspark.ml.recommendation import ALS, ALSModel\n",
        "\n",
        "als = ALS(\n",
        "    rank=10,\n",
        "    maxIter=10,\n",
        "    userCol='userId',\n",
        "    itemCol='movieId',\n",
        "    ratingCol='rating',\n",
        ")"
      ],
      "execution_count": 17,
      "outputs": []
    },
    {
      "cell_type": "code",
      "metadata": {
        "colab_type": "code",
        "id": "0K57A1tiurlX",
        "colab": {}
      },
      "source": [
        "# Build the recommendation model using ALS on the training data\n",
        "# fit the ALS model to the training set\n",
        "\n",
        "als_model = als.fit(mr_train)"
      ],
      "execution_count": 20,
      "outputs": []
    },
    {
      "cell_type": "markdown",
      "metadata": {
        "colab_type": "text",
        "id": "DmRRz_dUurlZ"
      },
      "source": [
        "Now you've fit the model, and it's time to evaluate it to determine just how well it performed.\n",
        "\n",
        "* import `RegressionEvalutor` from pyspark.ml.evaluation ([documentation](http://spark.apache.org/docs/2.4.3/api/python/pyspark.ml.html#pyspark.ml.evaluation.RegressionEvaluator)\n",
        "* generate predictions with your model for the test set by using the `transform` method on your ALS model\n",
        "* evaluate your model and print out the RMSE from your test set [options for evaluating regressors](http://spark.apache.org/docs/2.4.3/api/python/pyspark.ml.html#pyspark.ml.evaluation.RegressionEvaluator.metricName)"
      ]
    },
    {
      "cell_type": "code",
      "metadata": {
        "colab_type": "code",
        "id": "GUzDiiFburlb",
        "colab": {}
      },
      "source": [
        "train_predictions = als_model.transform(mr_train)"
      ],
      "execution_count": 21,
      "outputs": []
    },
    {
      "cell_type": "code",
      "metadata": {
        "colab_type": "code",
        "id": "vLgveYU4zwW8",
        "colab": {
          "base_uri": "https://localhost:8080/",
          "height": 204
        },
        "outputId": "7c035adb-5cae-427a-cb57-1cd98dd5da61"
      },
      "source": [
        "train_predictions.show(5)"
      ],
      "execution_count": 22,
      "outputs": [
        {
          "output_type": "stream",
          "text": [
            "+------+-------+------+----------+\n",
            "|userId|movieId|rating|prediction|\n",
            "+------+-------+------+----------+\n",
            "|   191|    148|   5.0|  4.927011|\n",
            "|   133|    471|   4.0| 3.2046044|\n",
            "|   597|    471|   2.0| 3.7945027|\n",
            "|   385|    471|   4.0| 3.0570471|\n",
            "|    91|    471|   1.0| 2.2039912|\n",
            "+------+-------+------+----------+\n",
            "only showing top 5 rows\n",
            "\n"
          ],
          "name": "stdout"
        }
      ]
    },
    {
      "cell_type": "code",
      "metadata": {
        "id": "S3UZNk4PAlPO",
        "colab_type": "code",
        "colab": {
          "base_uri": "https://localhost:8080/",
          "height": 34
        },
        "outputId": "0b3a810b-c920-44a7-f71a-19bbc46d0b9b"
      },
      "source": [
        "evaluator = RegressionEvaluator(metricName=\"rmse\", labelCol=\"rating\",\n",
        "                                predictionCol=\"prediction\")\n",
        "rmse = evaluator.evaluate(train_predictions.dropna())\n",
        "print(f\"Root-mean-square error (train)= {rmse}\")\n",
        "\n"
      ],
      "execution_count": 24,
      "outputs": [
        {
          "output_type": "stream",
          "text": [
            "Root-mean-square error (train)= 0.5644447976319404\n"
          ],
          "name": "stdout"
        }
      ]
    },
    {
      "cell_type": "code",
      "metadata": {
        "colab_type": "code",
        "id": "pjmWTGR6zI3O",
        "colab": {
          "base_uri": "https://localhost:8080/",
          "height": 34
        },
        "outputId": "6d46ed11-b056-4edb-fa38-317605ba7a5c"
      },
      "source": [
        "predictions = als_model.transform(mr_test)\n",
        "evaluator = RegressionEvaluator(metricName=\"rmse\", labelCol=\"rating\",\n",
        "                                predictionCol=\"prediction\")\n",
        "rmse = evaluator.evaluate(predictions.dropna())\n",
        "print(f\"Root-mean-square error = {rmse}\")\n",
        "\n"
      ],
      "execution_count": 23,
      "outputs": [
        {
          "output_type": "stream",
          "text": [
            "Root-mean-square error = 0.8821754924340985\n"
          ],
          "name": "stdout"
        }
      ]
    },
    {
      "cell_type": "code",
      "metadata": {
        "colab_type": "code",
        "id": "aJL_OHxuurle",
        "colab": {
          "base_uri": "https://localhost:8080/",
          "height": 34
        },
        "outputId": "7bae99e8-71d8-4e41-8a67-25fae8d67676"
      },
      "source": [
        "predictions.persist()"
      ],
      "execution_count": 25,
      "outputs": [
        {
          "output_type": "execute_result",
          "data": {
            "text/plain": [
              "DataFrame[userId: int, movieId: int, rating: double, prediction: float]"
            ]
          },
          "metadata": {
            "tags": []
          },
          "execution_count": 25
        }
      ]
    },
    {
      "cell_type": "code",
      "metadata": {
        "colab_type": "code",
        "id": "nlEyFi9Turlf",
        "colab": {
          "base_uri": "https://localhost:8080/",
          "height": 221
        },
        "outputId": "3540305a-4cd7-41f5-a92e-47c3c0501b09"
      },
      "source": [
        "movie_ratings.show(6)"
      ],
      "execution_count": 27,
      "outputs": [
        {
          "output_type": "stream",
          "text": [
            "+------+-------+------+\n",
            "|userId|movieId|rating|\n",
            "+------+-------+------+\n",
            "|     1|      1|   4.0|\n",
            "|     1|      3|   4.0|\n",
            "|     1|      6|   4.0|\n",
            "|     1|     47|   5.0|\n",
            "|     1|     50|   5.0|\n",
            "|     1|     70|   3.0|\n",
            "+------+-------+------+\n",
            "only showing top 6 rows\n",
            "\n"
          ],
          "name": "stdout"
        }
      ]
    },
    {
      "cell_type": "code",
      "metadata": {
        "colab_type": "code",
        "id": "_t8J_tmUurlh",
        "colab": {
          "base_uri": "https://localhost:8080/",
          "height": 221
        },
        "outputId": "abc83448-e13d-4dba-e79b-82d499805f9f"
      },
      "source": [
        "predictions.show(6)"
      ],
      "execution_count": 28,
      "outputs": [
        {
          "output_type": "stream",
          "text": [
            "+------+-------+------+----------+\n",
            "|userId|movieId|rating|prediction|\n",
            "+------+-------+------+----------+\n",
            "|   436|    471|   3.0| 3.8529267|\n",
            "|   602|    471|   4.0| 2.9285228|\n",
            "|   520|    471|   5.0|    3.3134|\n",
            "|   448|    471|   4.0| 3.0964446|\n",
            "|   312|    471|   4.0| 3.7356584|\n",
            "|   216|    471|   3.0|  3.885703|\n",
            "+------+-------+------+----------+\n",
            "only showing top 6 rows\n",
            "\n"
          ],
          "name": "stdout"
        }
      ]
    },
    {
      "cell_type": "code",
      "metadata": {
        "colab_type": "code",
        "id": "9Qiwi7Upurli",
        "colab": {}
      },
      "source": [
        "user_factors = als_model.userFactors"
      ],
      "execution_count": 29,
      "outputs": []
    },
    {
      "cell_type": "code",
      "metadata": {
        "colab_type": "code",
        "id": "vV_1850wurll",
        "colab": {
          "base_uri": "https://localhost:8080/",
          "height": 289
        },
        "outputId": "8a567f56-e328-4b28-8d52-f99c7e7e5455"
      },
      "source": [
        "user_factors.show(10)"
      ],
      "execution_count": 33,
      "outputs": [
        {
          "output_type": "stream",
          "text": [
            "+---+--------------------+\n",
            "| id|            features|\n",
            "+---+--------------------+\n",
            "| 10|[-0.028163323, 1....|\n",
            "| 20|[0.5673277, 0.496...|\n",
            "| 30|[0.58020854, 0.78...|\n",
            "| 40|[0.7170096, 0.631...|\n",
            "| 50|[0.2811989, 0.340...|\n",
            "| 60|[0.5366256, 0.700...|\n",
            "| 70|[0.542207, 1.0128...|\n",
            "| 80|[0.7283111, 0.597...|\n",
            "| 90|[1.2944326, 0.097...|\n",
            "|100|[0.73494244, 0.66...|\n",
            "+---+--------------------+\n",
            "only showing top 10 rows\n",
            "\n"
          ],
          "name": "stdout"
        }
      ]
    },
    {
      "cell_type": "code",
      "metadata": {
        "colab_type": "code",
        "id": "JRoGCsWPurlm",
        "colab": {}
      },
      "source": [
        "item_factors = als_model.itemFactors"
      ],
      "execution_count": 31,
      "outputs": []
    },
    {
      "cell_type": "code",
      "metadata": {
        "colab_type": "code",
        "id": "5WvHcvYMurlo",
        "colab": {
          "base_uri": "https://localhost:8080/",
          "height": 289
        },
        "outputId": "4faa226a-4489-43e2-a5aa-50e2f74d3ecf"
      },
      "source": [
        "item_factors.show(10)"
      ],
      "execution_count": 34,
      "outputs": [
        {
          "output_type": "stream",
          "text": [
            "+---+--------------------+\n",
            "| id|            features|\n",
            "+---+--------------------+\n",
            "| 10|[0.3847322, 0.807...|\n",
            "| 20|[0.70699704, 0.94...|\n",
            "| 30|[0.6348481, 0.165...|\n",
            "| 40|[0.4589276, -0.12...|\n",
            "| 50|[0.8616392, 0.747...|\n",
            "| 60|[0.5515125, 0.701...|\n",
            "| 70|[1.2577468, -0.01...|\n",
            "| 80|[0.6311168, 0.457...|\n",
            "|100|[0.44572285, 0.93...|\n",
            "|110|[0.74320126, 1.35...|\n",
            "+---+--------------------+\n",
            "only showing top 10 rows\n",
            "\n"
          ],
          "name": "stdout"
        }
      ]
    },
    {
      "cell_type": "markdown",
      "metadata": {
        "colab_type": "text",
        "id": "Jw3WcdDAurlp"
      },
      "source": [
        "### Important Question\n",
        "\n",
        "Will Billy like movie m?"
      ]
    },
    {
      "cell_type": "code",
      "metadata": {
        "colab_type": "code",
        "id": "fFOMPJ6Zurlq",
        "colab": {}
      },
      "source": [
        "import numpy as np"
      ],
      "execution_count": 35,
      "outputs": []
    },
    {
      "cell_type": "code",
      "metadata": {
        "colab_type": "code",
        "id": "DS-gV_7Purlr",
        "colab": {}
      },
      "source": [
        "billy_row = user_factors[user_factors['id'] == 10].first()\n",
        "billy_factors = np.array(billy_row['features'])"
      ],
      "execution_count": 36,
      "outputs": []
    },
    {
      "cell_type": "code",
      "metadata": {
        "colab_type": "code",
        "id": "8ShtNeHNurlt",
        "colab": {}
      },
      "source": [
        "m_row = item_factors[item_factors['id'] == 300].first()\n",
        "m_factors = np.array(m_row['features'])"
      ],
      "execution_count": 47,
      "outputs": []
    },
    {
      "cell_type": "code",
      "metadata": {
        "colab_type": "code",
        "id": "euyaI8d1urlu",
        "scrolled": true,
        "colab": {
          "base_uri": "https://localhost:8080/",
          "height": 51
        },
        "outputId": "dad94599-1feb-41a9-9c1d-6679187b4e8c"
      },
      "source": [
        "billy_factors"
      ],
      "execution_count": 48,
      "outputs": [
        {
          "output_type": "execute_result",
          "data": {
            "text/plain": [
              "array([-0.02816332,  1.36987567, -1.05537736, -0.35999161,  0.53521347,\n",
              "        0.6207878 ,  0.6986748 ,  0.48964936, -0.39119387,  0.31586847])"
            ]
          },
          "metadata": {
            "tags": []
          },
          "execution_count": 48
        }
      ]
    },
    {
      "cell_type": "code",
      "metadata": {
        "colab_type": "code",
        "id": "pB9WU6E4urlw",
        "colab": {
          "base_uri": "https://localhost:8080/",
          "height": 51
        },
        "outputId": "fe234a04-91e5-4d5c-9cbd-663ee13aa057"
      },
      "source": [
        "m_factors"
      ],
      "execution_count": 49,
      "outputs": [
        {
          "output_type": "execute_result",
          "data": {
            "text/plain": [
              "array([ 0.65726769,  0.74716783, -0.10188741, -0.52062732,  1.09512174,\n",
              "        0.83988464,  0.32136059,  0.02514426,  1.04226363,  0.09988138])"
            ]
          },
          "metadata": {
            "tags": []
          },
          "execution_count": 49
        }
      ]
    },
    {
      "cell_type": "code",
      "metadata": {
        "colab_type": "code",
        "id": "M2RT1SUuurlx",
        "colab": {
          "base_uri": "https://localhost:8080/",
          "height": 34
        },
        "outputId": "4a5bf5fb-fe23-40d6-f544-2778b1ef87b8"
      },
      "source": [
        "billy_factors @ m_factors"
      ],
      "execution_count": 50,
      "outputs": [
        {
          "output_type": "execute_result",
          "data": {
            "text/plain": [
              "2.268142018317759"
            ]
          },
          "metadata": {
            "tags": []
          },
          "execution_count": 50
        }
      ]
    },
    {
      "cell_type": "code",
      "metadata": {
        "id": "XJax1TD5Bp2O",
        "colab_type": "code",
        "colab": {
          "base_uri": "https://localhost:8080/",
          "height": 34
        },
        "outputId": "4773e0e2-3e10-410e-b063-a527356314d2"
      },
      "source": [
        "billy_factors.dot(m_factors)"
      ],
      "execution_count": 51,
      "outputs": [
        {
          "output_type": "execute_result",
          "data": {
            "text/plain": [
              "2.268142018317759"
            ]
          },
          "metadata": {
            "tags": []
          },
          "execution_count": 51
        }
      ]
    },
    {
      "cell_type": "code",
      "metadata": {
        "colab_type": "code",
        "id": "baFGUispurl0",
        "colab": {}
      },
      "source": [
        "billy_preds = train_predictions[train_predictions['userId'] == 10]"
      ],
      "execution_count": 44,
      "outputs": []
    },
    {
      "cell_type": "code",
      "metadata": {
        "colab_type": "code",
        "id": "vchzwA5furl3",
        "scrolled": true,
        "colab": {
          "base_uri": "https://localhost:8080/",
          "height": 459
        },
        "outputId": "38ddc50d-7f26-4740-ffba-ecd3f2849ec8"
      },
      "source": [
        "billy_preds.sort('movieId').show()"
      ],
      "execution_count": 45,
      "outputs": [
        {
          "output_type": "stream",
          "text": [
            "+------+-------+------+----------+\n",
            "|userId|movieId|rating|prediction|\n",
            "+------+-------+------+----------+\n",
            "|    10|    296|   1.0|  2.018721|\n",
            "|    10|    356|   3.5| 3.7405708|\n",
            "|    10|    588|   4.0| 3.1175637|\n",
            "|    10|    597|   3.5| 3.5979097|\n",
            "|    10|   1028|   0.5| 2.7993033|\n",
            "|    10|   1247|   3.0|  2.197189|\n",
            "|    10|   1307|   3.0| 3.1363187|\n",
            "|    10|   1784|   3.5|  3.451641|\n",
            "|    10|   1907|   4.0|  3.064485|\n",
            "|    10|   2571|   0.5|   2.64204|\n",
            "|    10|   2762|   0.5| 2.2830927|\n",
            "|    10|   2858|   1.0| 1.8638167|\n",
            "|    10|   3882|   3.0| 2.8551207|\n",
            "|    10|   4246|   3.5| 3.3944802|\n",
            "|    10|   4306|   4.5| 3.8531947|\n",
            "|    10|   4447|   4.5|  3.582965|\n",
            "|    10|   4993|   4.0| 2.6037142|\n",
            "|    10|   5066|   3.0| 2.8447907|\n",
            "|    10|   5377|   3.5|  3.005398|\n",
            "|    10|   5620|   3.0| 3.0089653|\n",
            "+------+-------+------+----------+\n",
            "only showing top 20 rows\n",
            "\n"
          ],
          "name": "stdout"
        }
      ]
    },
    {
      "cell_type": "code",
      "metadata": {
        "colab_type": "code",
        "id": "PrPN6iB9url5",
        "colab": {
          "base_uri": "https://localhost:8080/",
          "height": 34
        },
        "outputId": "782b155b-69d0-4c07-de2b-5e954989b12f"
      },
      "source": [
        "!grep \"^300,\" < data/movies.csv"
      ],
      "execution_count": 52,
      "outputs": [
        {
          "output_type": "stream",
          "text": [
            "300,Quiz Show (1994),Drama\r\n"
          ],
          "name": "stdout"
        }
      ]
    },
    {
      "cell_type": "markdown",
      "metadata": {
        "colab_type": "text",
        "id": "Juh7coa0url7"
      },
      "source": [
        "## Okay, what *will* Billy like?"
      ]
    },
    {
      "cell_type": "code",
      "metadata": {
        "colab_type": "code",
        "id": "piEKuZmcurl7",
        "colab": {}
      },
      "source": [
        "recs = als_model.recommendForAllUsers(numItems=10)"
      ],
      "execution_count": 53,
      "outputs": []
    },
    {
      "cell_type": "code",
      "metadata": {
        "colab_type": "code",
        "id": "Lnq3-J25url9",
        "colab": {
          "base_uri": "https://localhost:8080/",
          "height": 187
        },
        "outputId": "4c10d996-f878-450c-b80f-ae9e9e13a864"
      },
      "source": [
        "recs[recs['userId']==10].first()['recommendations']"
      ],
      "execution_count": 54,
      "outputs": [
        {
          "output_type": "execute_result",
          "data": {
            "text/plain": [
              "[Row(movieId=179819, rating=4.995639324188232),\n",
              " Row(movieId=71579, rating=4.865113258361816),\n",
              " Row(movieId=5466, rating=4.772733211517334),\n",
              " Row(movieId=111617, rating=4.772619724273682),\n",
              " Row(movieId=140110, rating=4.7544732093811035),\n",
              " Row(movieId=112804, rating=4.722951412200928),\n",
              " Row(movieId=714, rating=4.664199352264404),\n",
              " Row(movieId=34332, rating=4.6507248878479),\n",
              " Row(movieId=82, rating=4.609297752380371),\n",
              " Row(movieId=85367, rating=4.600451469421387)]"
            ]
          },
          "metadata": {
            "tags": []
          },
          "execution_count": 54
        }
      ]
    },
    {
      "cell_type": "code",
      "metadata": {
        "colab_type": "code",
        "id": "RS_d_FA5url_",
        "colab": {
          "base_uri": "https://localhost:8080/",
          "height": 34
        },
        "outputId": "4cb9a176-6495-413b-f449-8d9d8ff2449c"
      },
      "source": [
        "!grep \"^71579,\" < data/movies.csv"
      ],
      "execution_count": 56,
      "outputs": [
        {
          "output_type": "stream",
          "text": [
            "71579,\"Education, An (2009)\",Drama|Romance\r\n"
          ],
          "name": "stdout"
        }
      ]
    },
    {
      "cell_type": "markdown",
      "metadata": {
        "colab_type": "text",
        "id": "cmV_gpLiurmB"
      },
      "source": [
        "## Objective Review\n",
        "\n",
        "* Identify the key components of the ALS \n",
        "* Demonstrate an understanding on how recommendation systems are being used for personalization of online services/products\n",
        "* Parse and filter datasets into Spark DataFrame, performing basic feature selection\n",
        "* Run a brief hyper-parameter selection activity through a scalable grid search\n",
        "* Train and evaluate the predictive performance of recommendation system\n",
        "* Generate predictions from the trained model"
      ]
    },
    {
      "cell_type": "markdown",
      "metadata": {
        "colab_type": "text",
        "id": "Ell8Yo3CurmB"
      },
      "source": [
        "## Some great technical resources:\n",
        "\n",
        "- [good one from Stanford](http://stanford.edu/~rezab/classes/cme323/S15/notes/lec14.pdf)\n",
        "- [the netflix recommendation project](https://www.netflixprize.com/assets/GrandPrize2009_BPC_BellKor.pdf)"
      ]
    }
  ]
}