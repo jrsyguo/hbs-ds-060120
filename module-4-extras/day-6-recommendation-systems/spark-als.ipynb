{
  "nbformat": 4,
  "nbformat_minor": 0,
  "metadata": {
    "kernelspec": {
      "display_name": "Python 3",
      "language": "python",
      "name": "python3"
    },
    "language_info": {
      "codemirror_mode": {
        "name": "ipython",
        "version": 3
      },
      "file_extension": ".py",
      "mimetype": "text/x-python",
      "name": "python",
      "nbconvert_exporter": "python",
      "pygments_lexer": "ipython3",
      "version": "3.7.4"
    },
    "toc": {
      "base_numbering": 1,
      "nav_menu": {},
      "number_sections": true,
      "sideBar": true,
      "skip_h1_title": false,
      "title_cell": "Table of Contents",
      "title_sidebar": "Contents",
      "toc_cell": false,
      "toc_position": {},
      "toc_section_display": true,
      "toc_window_display": false
    },
    "colab": {
      "name": "spark-als.ipynb",
      "provenance": [],
      "toc_visible": true
    }
  },
  "cells": [
    {
      "cell_type": "code",
      "metadata": {
        "id": "8ykYocbcu5Me",
        "colab_type": "code",
        "colab": {}
      },
      "source": [
        "!apt-get install openjdk-8-jdk-headless -qq > /dev/null"
      ],
      "execution_count": null,
      "outputs": []
    },
    {
      "cell_type": "code",
      "metadata": {
        "id": "mxVxnZ7VvLMM",
        "colab_type": "code",
        "colab": {}
      },
      "source": [
        "!wget -q https://archive.apache.org/dist/spark/spark-2.4.1/spark-2.4.1-bin-hadoop2.7.tgz"
      ],
      "execution_count": null,
      "outputs": []
    },
    {
      "cell_type": "code",
      "metadata": {
        "id": "MzxRWhiovNDr",
        "colab_type": "code",
        "colab": {}
      },
      "source": [
        "!tar xf spark-2.4.1-bin-hadoop2.7.tgz\n",
        "!pip install -q findspark"
      ],
      "execution_count": null,
      "outputs": []
    },
    {
      "cell_type": "code",
      "metadata": {
        "id": "sy3kPAfPu6oK",
        "colab_type": "code",
        "colab": {}
      },
      "source": [
        "import os\n",
        "os.environ[\"JAVA_HOME\"] = \"/usr/lib/jvm/java-8-openjdk-amd64\"\n",
        "os.environ[\"SPARK_HOME\"] = \"/content/spark-2.4.1-bin-hadoop2.7\""
      ],
      "execution_count": null,
      "outputs": []
    },
    {
      "cell_type": "code",
      "metadata": {
        "id": "_WDU8Y_5u8bj",
        "colab_type": "code",
        "colab": {}
      },
      "source": [
        "import findspark\n",
        "findspark.init()\n",
        "from pyspark.sql import SparkSession\n",
        "spark = SparkSession.builder.master(\"local[*]\").getOrCreate()"
      ],
      "execution_count": null,
      "outputs": []
    },
    {
      "cell_type": "code",
      "metadata": {
        "id": "Z5jzktJswTdK",
        "colab_type": "code",
        "colab": {}
      },
      "source": [
        "!unzip /content/Archive.zip"
      ],
      "execution_count": null,
      "outputs": []
    },
    {
      "cell_type": "markdown",
      "metadata": {
        "id": "fKfXbf2Ourkm",
        "colab_type": "text"
      },
      "source": [
        "# Building a Movie Recommendation System in PySpark - Lab Code-along\n",
        "![images of vhs tapes on shelf](/content/img/movies.jpg)"
      ]
    },
    {
      "cell_type": "markdown",
      "metadata": {
        "id": "nydJ-BIhurkn",
        "colab_type": "text"
      },
      "source": [
        "## Introduction\n",
        "\n",
        "In this last lab, we will implement a a movie recommendation system using Alternating Least Squares (ALS) in Spark programming environment.<br> Spark's machine learning libraray `ml` comes packaged with a very efficient imeplementation of ALS algorithm. \n",
        "\n",
        "The lab will require you to put into pratice your spark programming skills for creating and manipulating pyspark DataFrames. We will go through a step-by-step process into developing a movie recommendation system using ALS and pyspark using the MovieLens Dataset.\n",
        "\n",
        "Note: You are advised to refer to [PySpark Documentation](http://spark.apache.org/docs/2.2.0/api/python/index.html) heavily for completing this lab as it will introduce a few new methods. "
      ]
    },
    {
      "cell_type": "markdown",
      "metadata": {
        "id": "6zew458Xurkn",
        "colab_type": "text"
      },
      "source": [
        "## Objectives\n",
        "\n",
        "You will be able to:\n",
        "\n",
        "* Identify the key components of the ALS \n",
        "* Demonstrate an understanding on how recommendation systems are being used for personalization of online services/products\n",
        "* Parse and filter datasets into Spark DataFrame, performing basic feature selection\n",
        "* Run a brief hyper-parameter selection activity through a scalable grid search\n",
        "* Train and evaluate the predictive performance of recommendation system\n",
        "* Generate predictions from the trained model"
      ]
    },
    {
      "cell_type": "markdown",
      "metadata": {
        "id": "OaxKhsoNurko",
        "colab_type": "text"
      },
      "source": [
        "## Building a Recommendation System\n",
        "\n",
        "We have seen how recommender/Recommendation Systems have played an  integral parts in the success of Amazon (Books, Items), Pandora/Spotify (Music), Google (News, Search), YouTube (Videos) etc.  For Amazon these systems bring more than 30% of their total revenues. For Netflix service, 75% of movies that people watch are based on some sort of recommendation.\n",
        "\n",
        "> The goal of Recommendation Systems is to find what is likely to be of interest to the user. This enables organizations to offer a high level of personalization and customer tailored services."
      ]
    },
    {
      "cell_type": "markdown",
      "metadata": {
        "id": "2On6400xurko",
        "colab_type": "text"
      },
      "source": [
        "### We sort of get the concept\n",
        "\n",
        "For online video content services like Netflix and Hulu, the need to build robust movie recommendation systems is extremely important. An example of recommendation system is such as this:\n",
        "\n",
        "1.    User A watches Game of Thrones and Breaking Bad.\n",
        "2.    User B performs a search query for Game of Thrones.\n",
        "3.    The system suggests Breaking Bad to user B from data collected about user A.\n",
        "\n",
        "\n",
        "This lab will guide you through a step-by-step process into developing such a movie recommendation system. We will use the MovieLens dataset to build a movie recommendation system using the collaborative filtering technique with Spark's Alternating Least Saqures implementation. After building that recommendation system, we will go through the process of adding a new user to the dataset with some new ratings and obtaining new recommendations for that user."
      ]
    },
    {
      "cell_type": "markdown",
      "metadata": {
        "id": "7QYIkXHzurko",
        "colab_type": "text"
      },
      "source": [
        "## Will Nightengale like Toy Story?\n",
        "\n",
        "Collaborative filtering and matrix decomposition allows us to use the history of others ratings, along with the entire community of ratings, to answer that question.\n",
        "\n",
        "![image1](img/collab.png)\n"
      ]
    },
    {
      "cell_type": "markdown",
      "metadata": {
        "id": "NXsCauSUurkp",
        "colab_type": "text"
      },
      "source": [
        "## Person vs vegetable\n",
        "\n",
        "It's important to realize that there are two sides to recommendation\n",
        "\n",
        "![image2](img/item_user_based.png)"
      ]
    },
    {
      "cell_type": "markdown",
      "metadata": {
        "id": "kF-i_rK4urkp",
        "colab_type": "text"
      },
      "source": [
        "## Code for model\n",
        "\n",
        "If we wanted, we could jump to the code right now to make this happen."
      ]
    },
    {
      "cell_type": "markdown",
      "metadata": {
        "id": "lNvpEZbburkq",
        "colab_type": "text"
      },
      "source": [
        "But would we understand it?\n",
        "```python\n",
        "from pyspark.ml.recommendation import ALS\n",
        "\n",
        "als = ALS(\n",
        "    rank=10,\n",
        "    maxIter=10,\n",
        "    userCol='userId',\n",
        "    itemCol='movieId',\n",
        "    ratingCol='rating',\n",
        ")\n",
        "\n",
        "als_model = als.fit(movie_ratings)\n",
        "```"
      ]
    },
    {
      "cell_type": "markdown",
      "metadata": {
        "id": "1Rgm1rC_urkq",
        "colab_type": "text"
      },
      "source": [
        "## Documentation Station\n",
        "\n",
        "Let's explore the [documentation](http://spark.apache.org/docs/2.4.3/api/python/pyspark.ml.html#module-pyspark.ml.recommendation) together to maybe get a better idea of what is happening. \n",
        "\n",
        "- which parameters make sense?\n",
        "- which are completely foreign?"
      ]
    },
    {
      "cell_type": "markdown",
      "metadata": {
        "id": "fCcLhFVdurkq",
        "colab_type": "text"
      },
      "source": [
        "## Rank\n",
        "\n",
        "What's all this rank of the factorization business?<br>\n",
        "[the source code documentation](https://github.com/apache/spark/blob/master/mllib/src/main/scala/org/apache/spark/mllib/recommendation/ALS.scala) describes that variable as the \"Rank of the feature matrices\""
      ]
    },
    {
      "cell_type": "markdown",
      "metadata": {
        "id": "XSkeeW4yurkr",
        "colab_type": "text"
      },
      "source": [
        "## Assumptions\n",
        "\n",
        "Matrix decomposition is built on the theory that every individual (user, movie) score is actually the **dot product** of two separate vectors:\n",
        "- user characteristics \n",
        "- movie characteristics"
      ]
    },
    {
      "cell_type": "markdown",
      "metadata": {
        "id": "N69jgwG2urks",
        "colab_type": "text"
      },
      "source": [
        "Wait, do you mean like gender, whether the movie is sci-fi or action? do we have that data?"
      ]
    },
    {
      "cell_type": "markdown",
      "metadata": {
        "id": "IhoGfIgvurks",
        "colab_type": "text"
      },
      "source": [
        "![beyonce-gif](img/beyonce.gif)"
      ]
    },
    {
      "cell_type": "markdown",
      "metadata": {
        "id": "AQQ_Oblourkt",
        "colab_type": "text"
      },
      "source": [
        "## The hidden matricies \n",
        "![image4](img/matrix_decomp.png)"
      ]
    },
    {
      "cell_type": "markdown",
      "metadata": {
        "id": "ZGgXx48Aurkt",
        "colab_type": "text"
      },
      "source": [
        "## Embeddings\n",
        "\n",
        "Embeddings are low dimensional hidden factors for items and users.\n",
        "\n",
        "For e.g. say we have 5 dimensional (i.e., **rank** = 5) embeddings for both items and users (5 chosen randomly, this could be any number - as we saw with PCA and dim. reduction).\n",
        "\n",
        "For user-X & movie-A, we can say those 5 numbers might represent 5 different characteristics about the movie e.g.:\n",
        "\n",
        "- How much movie-A is political\n",
        "- How recent is the movie\n",
        "- How much special effects are in movie A\n",
        "- How dialogue driven is the movie\n",
        "- How linear is the narrative in the movie\n",
        "\n",
        "In a similar way, 5 numbers in the user embedding matrix might represent:\n",
        "\n",
        "- How much does user-X like sci-fi movies\n",
        "- How much does user-X like recent movies … and so on.\n",
        "\n",
        "But we have *no actual idea* what those factors actually represent."
      ]
    },
    {
      "cell_type": "markdown",
      "metadata": {
        "id": "mpedppX9urkt",
        "colab_type": "text"
      },
      "source": [
        "### If we knew the feature embeddings in advance, it would look something like this:"
      ]
    },
    {
      "cell_type": "code",
      "metadata": {
        "id": "2FnpDao6urku",
        "colab_type": "code",
        "colab": {}
      },
      "source": [
        "import numpy as np\n",
        "\n",
        "# the original matrix of rankings\n",
        "R = np.array([[2, np.nan, np.nan, 1, 4],\n",
        "              [5, 1, 2, np.nan, 2],\n",
        "              [3, np.nan, np.nan, 3, np.nan],\n",
        "              [1, np.nan, 4, 2, 1]])\n",
        "\n",
        "# users X factors\n",
        "P = np.array([[-0.63274434,  1.33686735, -1.55128517],\n",
        "              [-2.23813661,  0.5123861,  0.14087293],\n",
        "              [-1.0289794,  1.62052691,  0.21027516],\n",
        "              [-0.06422255,  1.62892864,  0.33350709]])\n",
        "\n",
        "# factors X items\n",
        "Q = np.array([[-2.09507374,  0.52351075,  0.01826269],\n",
        "              [-0.45078775, -0.07334991,  0.18731052],\n",
        "              [-0.34161766,  2.46215058, -0.18942263],\n",
        "              [-1.0925736,  1.04664756,  0.69963111],\n",
        "              [-0.78152923,  0.89189076, -1.47144019]])"
      ],
      "execution_count": null,
      "outputs": []
    },
    {
      "cell_type": "markdown",
      "metadata": {
        "id": "XT47eqfCurkw",
        "colab_type": "text"
      },
      "source": [
        "What about that `np.nan` in the third row, last column? How will that item be reviewed by that user?"
      ]
    },
    {
      "cell_type": "code",
      "metadata": {
        "id": "JYngWDlwurkx",
        "colab_type": "code",
        "colab": {}
      },
      "source": [
        "print(P[2])\n",
        "print(Q.T[:,4])\n",
        "P[2].dot(Q.T[:,4])"
      ],
      "execution_count": null,
      "outputs": []
    },
    {
      "cell_type": "markdown",
      "metadata": {
        "id": "9fZB3n7curkz",
        "colab_type": "text"
      },
      "source": [
        "## Wait, I saw a transpose in there - what's the actual formula?\n",
        "\n",
        "Terms:<br>\n",
        "$R$ is the full user-item rating matrix\n",
        "\n",
        "$P$ is a matrix that contains the users and the k factors represented as (user,factor)\n",
        "\n",
        "$Q^T$ is a matrix that contains the items and the k factors represented as\n",
        "\n",
        "$r̂_{u,i}$ represents our prediction for the true rating $r_{ui}$ In order to get an individual rating, you must take the dot product of a row of P and a column of Q\n",
        "\n",
        "for the entire matrix:\n",
        "$$ R = PQ^T $$ \n",
        "\n",
        "or for individual ratings\n",
        "\n",
        "$$r̂_{u,i}=q_i^⊤p_u $$ \n",
        "\n",
        "\n",
        "\n"
      ]
    },
    {
      "cell_type": "markdown",
      "metadata": {
        "id": "9QFXaP-Aurkz",
        "colab_type": "text"
      },
      "source": [
        "### Let's get the whole matrix!"
      ]
    },
    {
      "cell_type": "code",
      "metadata": {
        "id": "ly29_Afuurkz",
        "colab_type": "code",
        "colab": {}
      },
      "source": [
        "P.dot(Q.T)"
      ],
      "execution_count": null,
      "outputs": []
    },
    {
      "cell_type": "markdown",
      "metadata": {
        "id": "n6zPsSNuurk1",
        "colab_type": "text"
      },
      "source": [
        "### Look at those results\n",
        "\n",
        "Are they _exactly_ correct?\n",
        "![check](img/check.gif)"
      ]
    },
    {
      "cell_type": "markdown",
      "metadata": {
        "id": "xqwBoCC6urk2",
        "colab_type": "text"
      },
      "source": [
        "## ALS benefit: Loss Function\n",
        "\n",
        "The Loss function $L$ can be calculated as:\n",
        "\n",
        "$$ L = \\sum_{u,i ∈ \\kappa}(r_{u,i}− q_i^T p_u)^2 + λ( ||q_i||^2 + |p_u||^2)$$\n",
        "\n",
        "Where $\\kappa$ is the set of (u,i) pairs for which $r_{u,i}$ is known.\n",
        "\n",
        "To avoid overfitting, the loss function also includes a regularization parameter $\\lambda$. We will choose a $\\lambda$ to minimize the square of the difference between all ratings in our dataset $R$ and our predictions.\n",
        "\n",
        "There's the **least squares** part of ALS, got it!"
      ]
    },
    {
      "cell_type": "markdown",
      "metadata": {
        "id": "roK9YBGOurk2",
        "colab_type": "text"
      },
      "source": [
        "## So now we use gradient descent, right?"
      ]
    },
    {
      "cell_type": "markdown",
      "metadata": {
        "id": "wVInIntcurk3",
        "colab_type": "text"
      },
      "source": [
        "![incorrect](img/incorrect.gif)"
      ]
    },
    {
      "cell_type": "markdown",
      "metadata": {
        "id": "6djUpw42urk3",
        "colab_type": "text"
      },
      "source": [
        "### Here comes the alternating part\n",
        "\n",
        "ALS alternates between holding the $q_i$'s constant and the $p_u$'s constant. \n",
        "\n",
        "While all $q_i$'s are held constant, each $p_u$ is computed by solving the least squared problem.<br>\n",
        "After that process has taken place, all the $p_u$'s are held constant while the $q_i$'s are altered to solve the least squares problem, again, each independently.<br> \n",
        "This process repeats many times until you've reached convergence (ideally)."
      ]
    },
    {
      "cell_type": "markdown",
      "metadata": {
        "id": "GbcP62fLurk3",
        "colab_type": "text"
      },
      "source": [
        "### Changing Loss function:\n",
        "\n",
        "First let's assume first the item vectors are fixed, we first solve for the user vectors:\n",
        "\n",
        "$$p_u=(\\sum{r{u,i}\\in r_{u*}}{q_iq_i^T + \\lambda I_k})^{-1}\\sum_{r_{u,i}\\in r_{u*}}{r_{ui}{q_{i}}}$$__\n",
        "Then we hold the user vectors constant and solve for the item vectors\n",
        "\n",
        "$$q_i=(\\sum{r{u,i}\\in r_{i*}}{p_up_u^T + \\lambda I_k})^{-1}\\sum_{r_{u,i}\\in r_{u*}}{r_{ui}{p_{u}}}$$__\n",
        "This process repeats until convergence"
      ]
    },
    {
      "cell_type": "markdown",
      "metadata": {
        "id": "-wPBb4mTurk4",
        "colab_type": "text"
      },
      "source": [
        "# Review\n",
        "What levers do we have available to adjust?\n",
        "![lever-choice](img/levers.jpeg)\n",
        "\n",
        "- Pros and cons of large rank?\n",
        "- Pros and cons of lambda size?\n",
        "- Iterations?"
      ]
    },
    {
      "cell_type": "markdown",
      "metadata": {
        "id": "boXbN694urk4",
        "colab_type": "text"
      },
      "source": [
        "# Enough - let's get to the data"
      ]
    },
    {
      "cell_type": "markdown",
      "metadata": {
        "id": "XbvLeuG2urk5",
        "colab_type": "text"
      },
      "source": [
        "### Importing the Data\n",
        "To begin with:\n",
        "* initialize a SparkSession object\n",
        "* import the dataset found at './data/ratings.csv' into a pyspark DataFrame"
      ]
    },
    {
      "cell_type": "code",
      "metadata": {
        "id": "uOMiDuBhurk5",
        "colab_type": "code",
        "colab": {}
      },
      "source": [
        "import pyspark\n",
        "\n",
        "spark = pyspark.sql.SparkSession.builder.getOrCreate()\n",
        "sc = spark.sparkContext"
      ],
      "execution_count": null,
      "outputs": []
    },
    {
      "cell_type": "code",
      "metadata": {
        "id": "MuwDgy2rurk7",
        "colab_type": "code",
        "colab": {}
      },
      "source": [
        "!ls data/"
      ],
      "execution_count": null,
      "outputs": []
    },
    {
      "cell_type": "code",
      "metadata": {
        "id": "xisAKasGurk-",
        "colab_type": "code",
        "colab": {}
      },
      "source": [
        "!head data/ratings.csv"
      ],
      "execution_count": null,
      "outputs": []
    },
    {
      "cell_type": "code",
      "metadata": {
        "id": "w9rGcB6eurlB",
        "colab_type": "code",
        "colab": {}
      },
      "source": [
        "# read in the dataset into pyspark DataFrame\n",
        "movie_ratings = spark.read.csv('data/ratings.csv',\n",
        "                               inferSchema=True,\n",
        "                               header=True)"
      ],
      "execution_count": null,
      "outputs": []
    },
    {
      "cell_type": "markdown",
      "metadata": {
        "id": "joeAGI1DurlD",
        "colab_type": "text"
      },
      "source": [
        "Check the data types of each of the values to ensure that they are a type that makes sense given the column."
      ]
    },
    {
      "cell_type": "code",
      "metadata": {
        "id": "UayzI9DwurlD",
        "colab_type": "code",
        "colab": {}
      },
      "source": [
        "movie_ratings.printSchema()"
      ],
      "execution_count": null,
      "outputs": []
    },
    {
      "cell_type": "code",
      "metadata": {
        "id": "LO1zDU46urlQ",
        "colab_type": "code",
        "colab": {}
      },
      "source": [
        "movie_ratings.show(5)"
      ],
      "execution_count": null,
      "outputs": []
    },
    {
      "cell_type": "markdown",
      "metadata": {
        "id": "XEWZD531urlS",
        "colab_type": "text"
      },
      "source": [
        "We aren't going to need the time stamp, so we can go ahead and remove that column."
      ]
    },
    {
      "cell_type": "code",
      "metadata": {
        "id": "9tBuEVl4urlS",
        "colab_type": "code",
        "colab": {}
      },
      "source": [
        "movie_ratings = #what do we put here?"
      ],
      "execution_count": null,
      "outputs": []
    },
    {
      "cell_type": "markdown",
      "metadata": {
        "id": "I10eye8iurlU",
        "colab_type": "text"
      },
      "source": [
        "### Fitting the Alternating Least Squares Model"
      ]
    },
    {
      "cell_type": "markdown",
      "metadata": {
        "id": "HenOR9uWurlU",
        "colab_type": "text"
      },
      "source": [
        "Because this dataset is already preprocessed for us, we can go ahead and fit the Alternating Least Squares model.\n",
        "\n",
        "* Use the randomSplit method on the pyspark DataFrame to separate the dataset into a training and test set\n",
        "* Import the ALS module from pyspark.ml.recommendation.\n",
        "* Fit the Alternating Least Squares Model to the training dataset. Make sure to set the userCol, itemCol, and ratingCol to the appropriate names given this dataset. Then fit the data to the training set and assign it to a variable model. "
      ]
    },
    {
      "cell_type": "code",
      "metadata": {
        "id": "hNApPokqurlU",
        "colab_type": "code",
        "colab": {}
      },
      "source": [
        "# split into training and testing sets\n",
        "\n",
        "mr_train, mr_test = movie_ratings.randomSplit([0.8, 0.2])"
      ],
      "execution_count": null,
      "outputs": []
    },
    {
      "cell_type": "code",
      "metadata": {
        "id": "lze-bPufurlW",
        "colab_type": "code",
        "colab": {}
      },
      "source": [
        "from pyspark.ml.evaluation import RegressionEvaluator\n",
        "from pyspark.ml.recommendation import ALS, ALSModel\n",
        "\n",
        "als = ALS(\n",
        "    rank=10,\n",
        "    maxIter=10,\n",
        "    userCol='userId',\n",
        "    itemCol='movieId',\n",
        "    ratingCol='rating',\n",
        ")"
      ],
      "execution_count": null,
      "outputs": []
    },
    {
      "cell_type": "code",
      "metadata": {
        "id": "0K57A1tiurlX",
        "colab_type": "code",
        "colab": {}
      },
      "source": [
        "# Build the recommendation model using ALS on the training data\n",
        "# fit the ALS model to the training set\n",
        "\n",
        "als_model = als.fit(mr_train)"
      ],
      "execution_count": null,
      "outputs": []
    },
    {
      "cell_type": "markdown",
      "metadata": {
        "id": "DmRRz_dUurlZ",
        "colab_type": "text"
      },
      "source": [
        "Now you've fit the model, and it's time to evaluate it to determine just how well it performed.\n",
        "\n",
        "* import `RegressionEvalutor` from pyspark.ml.evaluation ([documentation](http://spark.apache.org/docs/2.4.3/api/python/pyspark.ml.html#pyspark.ml.evaluation.RegressionEvaluator)\n",
        "* generate predictions with your model for the test set by using the `transform` method on your ALS model\n",
        "* evaluate your model and print out the RMSE from your test set [options for evaluating regressors](http://spark.apache.org/docs/2.4.3/api/python/pyspark.ml.html#pyspark.ml.evaluation.RegressionEvaluator.metricName)"
      ]
    },
    {
      "cell_type": "code",
      "metadata": {
        "id": "GUzDiiFburlb",
        "colab_type": "code",
        "colab": {}
      },
      "source": [
        "train_predictions = als_model.transform(mr_train)"
      ],
      "execution_count": null,
      "outputs": []
    },
    {
      "cell_type": "code",
      "metadata": {
        "id": "vLgveYU4zwW8",
        "colab_type": "code",
        "colab": {}
      },
      "source": [
        "predictions.show(5)"
      ],
      "execution_count": null,
      "outputs": []
    },
    {
      "cell_type": "code",
      "metadata": {
        "id": "pjmWTGR6zI3O",
        "colab_type": "code",
        "colab": {}
      },
      "source": [
        "predictions = als_model.transform(mr_test)\n",
        "evaluator = RegressionEvaluator(metricName=\"rmse\", labelCol=\"rating\",\n",
        "                                predictionCol=\"prediction\")\n",
        "rmse = evaluator.evaluate(predictions.dropna())\n",
        "print(f\"Root-mean-square error = {rmse}\")\n",
        "\n"
      ],
      "execution_count": null,
      "outputs": []
    },
    {
      "cell_type": "code",
      "metadata": {
        "id": "aJL_OHxuurle",
        "colab_type": "code",
        "colab": {}
      },
      "source": [
        "predictions.persist()"
      ],
      "execution_count": null,
      "outputs": []
    },
    {
      "cell_type": "code",
      "metadata": {
        "id": "nlEyFi9Turlf",
        "colab_type": "code",
        "colab": {}
      },
      "source": [
        "movie_ratings.show(1)"
      ],
      "execution_count": null,
      "outputs": []
    },
    {
      "cell_type": "code",
      "metadata": {
        "id": "_t8J_tmUurlh",
        "colab_type": "code",
        "colab": {}
      },
      "source": [
        "predictions.show(1)"
      ],
      "execution_count": null,
      "outputs": []
    },
    {
      "cell_type": "code",
      "metadata": {
        "id": "9Qiwi7Upurli",
        "colab_type": "code",
        "colab": {}
      },
      "source": [
        "user_factors = als_model.userFactors"
      ],
      "execution_count": null,
      "outputs": []
    },
    {
      "cell_type": "code",
      "metadata": {
        "id": "vV_1850wurll",
        "colab_type": "code",
        "colab": {}
      },
      "source": [
        "user_factors"
      ],
      "execution_count": null,
      "outputs": []
    },
    {
      "cell_type": "code",
      "metadata": {
        "id": "JRoGCsWPurlm",
        "colab_type": "code",
        "colab": {}
      },
      "source": [
        "item_factors = als_model.itemFactors"
      ],
      "execution_count": null,
      "outputs": []
    },
    {
      "cell_type": "code",
      "metadata": {
        "id": "5WvHcvYMurlo",
        "colab_type": "code",
        "colab": {}
      },
      "source": [
        "item_factors"
      ],
      "execution_count": null,
      "outputs": []
    },
    {
      "cell_type": "markdown",
      "metadata": {
        "id": "Jw3WcdDAurlp",
        "colab_type": "text"
      },
      "source": [
        "### Important Question\n",
        "\n",
        "Will Billy like movie m?"
      ]
    },
    {
      "cell_type": "code",
      "metadata": {
        "id": "fFOMPJ6Zurlq",
        "colab_type": "code",
        "colab": {}
      },
      "source": [
        "import numpy as np"
      ],
      "execution_count": null,
      "outputs": []
    },
    {
      "cell_type": "code",
      "metadata": {
        "id": "DS-gV_7Purlr",
        "colab_type": "code",
        "colab": {}
      },
      "source": [
        "billy_row = user_factors[user_factors['id'] == 10].first()\n",
        "billy_factors = np.array(billy_row['features'])"
      ],
      "execution_count": null,
      "outputs": []
    },
    {
      "cell_type": "code",
      "metadata": {
        "id": "8ShtNeHNurlt",
        "colab_type": "code",
        "colab": {}
      },
      "source": [
        "m_row = item_factors[item_factors['id'] == 296].first()\n",
        "m_factors = np.array(m_row['features'])"
      ],
      "execution_count": null,
      "outputs": []
    },
    {
      "cell_type": "code",
      "metadata": {
        "scrolled": true,
        "id": "euyaI8d1urlu",
        "colab_type": "code",
        "colab": {}
      },
      "source": [
        "billy_factors"
      ],
      "execution_count": null,
      "outputs": []
    },
    {
      "cell_type": "code",
      "metadata": {
        "id": "pB9WU6E4urlw",
        "colab_type": "code",
        "colab": {}
      },
      "source": [
        "m_factors"
      ],
      "execution_count": null,
      "outputs": []
    },
    {
      "cell_type": "code",
      "metadata": {
        "id": "M2RT1SUuurlx",
        "colab_type": "code",
        "colab": {}
      },
      "source": [
        "billy_factors @ m_factors"
      ],
      "execution_count": null,
      "outputs": []
    },
    {
      "cell_type": "code",
      "metadata": {
        "id": "baFGUispurl0",
        "colab_type": "code",
        "colab": {}
      },
      "source": [
        "billy_preds = predictions[predictions['userId'] == 10]"
      ],
      "execution_count": null,
      "outputs": []
    },
    {
      "cell_type": "code",
      "metadata": {
        "scrolled": true,
        "id": "vchzwA5furl3",
        "colab_type": "code",
        "colab": {}
      },
      "source": [
        "billy_preds.sort('movieId').show()"
      ],
      "execution_count": null,
      "outputs": []
    },
    {
      "cell_type": "code",
      "metadata": {
        "id": "PrPN6iB9url5",
        "colab_type": "code",
        "colab": {}
      },
      "source": [
        "!grep \"^296,\" < data/movies.csv"
      ],
      "execution_count": null,
      "outputs": []
    },
    {
      "cell_type": "markdown",
      "metadata": {
        "id": "Juh7coa0url7",
        "colab_type": "text"
      },
      "source": [
        "## Okay, what *will* Billy like?"
      ]
    },
    {
      "cell_type": "code",
      "metadata": {
        "id": "piEKuZmcurl7",
        "colab_type": "code",
        "colab": {}
      },
      "source": [
        "recs = als_model.recommendForAllUsers(numItems=10)"
      ],
      "execution_count": null,
      "outputs": []
    },
    {
      "cell_type": "code",
      "metadata": {
        "id": "Lnq3-J25url9",
        "colab_type": "code",
        "colab": {}
      },
      "source": [
        "recs[recs['userId']==10].first()['recommendations']"
      ],
      "execution_count": null,
      "outputs": []
    },
    {
      "cell_type": "code",
      "metadata": {
        "id": "RS_d_FA5url_",
        "colab_type": "code",
        "colab": {}
      },
      "source": [
        "!grep \"^112804,\" < data/movies.csv"
      ],
      "execution_count": null,
      "outputs": []
    },
    {
      "cell_type": "markdown",
      "metadata": {
        "id": "cmV_gpLiurmB",
        "colab_type": "text"
      },
      "source": [
        "## Objective Review\n",
        "\n",
        "* Identify the key components of the ALS \n",
        "* Demonstrate an understanding on how recommendation systems are being used for personalization of online services/products\n",
        "* Parse and filter datasets into Spark DataFrame, performing basic feature selection\n",
        "* Run a brief hyper-parameter selection activity through a scalable grid search\n",
        "* Train and evaluate the predictive performance of recommendation system\n",
        "* Generate predictions from the trained model"
      ]
    },
    {
      "cell_type": "markdown",
      "metadata": {
        "id": "Ell8Yo3CurmB",
        "colab_type": "text"
      },
      "source": [
        "## Some great technical resources:\n",
        "\n",
        "- [good one from Stanford](http://stanford.edu/~rezab/classes/cme323/S15/notes/lec14.pdf)\n",
        "- [the netflix recommendation project](https://www.netflixprize.com/assets/GrandPrize2009_BPC_BellKor.pdf)"
      ]
    }
  ]
}